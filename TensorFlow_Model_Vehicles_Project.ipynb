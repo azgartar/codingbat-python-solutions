{
 "cells": [
  {
   "cell_type": "markdown",
   "metadata": {},
   "source": [
    "# Introduction\n",
    "\n",
    "Data Science Project: Price prediction on pre-owned vehicles\n",
    "\n",
    "Completion Date: 28/7/2020\n",
    "\n",
    "by: Azgar Tar"
   ]
  },
  {
   "cell_type": "markdown",
   "metadata": {},
   "source": [
    "## Dataset Information"
   ]
  },
  {
   "cell_type": "markdown",
   "metadata": {},
   "source": [
    "The dataset (.csv file) used in this project includes 4345 individual vehicle entries recorded on the purchase by a pre-owned sales department. They include variables which are considered to attribute towards the purchase price of the vehicle, which is also listed in the dataset."
   ]
  },
  {
   "cell_type": "markdown",
   "metadata": {},
   "source": [
    "## Project Goal"
   ]
  },
  {
   "cell_type": "markdown",
   "metadata": {},
   "source": [
    "The Goal of this project is to clean and prepare the data, and to build a machine learning model in order to, as accurately as possible, predict a price on future purchases "
   ]
  },
  {
   "cell_type": "markdown",
   "metadata": {},
   "source": [
    "### Import Libraries"
   ]
  },
  {
   "cell_type": "code",
   "execution_count": 1,
   "metadata": {},
   "outputs": [],
   "source": [
    "import numpy as np\n",
    "import pandas as pd\n",
    "import matplotlib.pyplot as plt\n",
    "import tensorflow as tf\n",
    "import seaborn as sns\n",
    "sns.set()\n",
    "\n",
    "pd.options.display.max_rows= None"
   ]
  },
  {
   "cell_type": "markdown",
   "metadata": {},
   "source": [
    "### Import Data"
   ]
  },
  {
   "cell_type": "code",
   "execution_count": 2,
   "metadata": {},
   "outputs": [],
   "source": [
    "df_raw = pd.read_csv('cars.csv') "
   ]
  },
  {
   "cell_type": "markdown",
   "metadata": {},
   "source": [
    "### Data Examination"
   ]
  },
  {
   "cell_type": "code",
   "execution_count": 3,
   "metadata": {},
   "outputs": [
    {
     "data": {
      "text/html": [
       "<div>\n",
       "<style scoped>\n",
       "    .dataframe tbody tr th:only-of-type {\n",
       "        vertical-align: middle;\n",
       "    }\n",
       "\n",
       "    .dataframe tbody tr th {\n",
       "        vertical-align: top;\n",
       "    }\n",
       "\n",
       "    .dataframe thead th {\n",
       "        text-align: right;\n",
       "    }\n",
       "</style>\n",
       "<table border=\"1\" class=\"dataframe\">\n",
       "  <thead>\n",
       "    <tr style=\"text-align: right;\">\n",
       "      <th></th>\n",
       "      <th>Brand</th>\n",
       "      <th>Price</th>\n",
       "      <th>Body</th>\n",
       "      <th>Mileage</th>\n",
       "      <th>EngineV</th>\n",
       "      <th>Engine Type</th>\n",
       "      <th>Registration</th>\n",
       "      <th>Year</th>\n",
       "      <th>Model</th>\n",
       "    </tr>\n",
       "  </thead>\n",
       "  <tbody>\n",
       "    <tr>\n",
       "      <th>0</th>\n",
       "      <td>BMW</td>\n",
       "      <td>4200.0</td>\n",
       "      <td>sedan</td>\n",
       "      <td>277</td>\n",
       "      <td>2.0</td>\n",
       "      <td>Petrol</td>\n",
       "      <td>yes</td>\n",
       "      <td>1991</td>\n",
       "      <td>320</td>\n",
       "    </tr>\n",
       "    <tr>\n",
       "      <th>1</th>\n",
       "      <td>Mercedes-Benz</td>\n",
       "      <td>7900.0</td>\n",
       "      <td>van</td>\n",
       "      <td>427</td>\n",
       "      <td>2.9</td>\n",
       "      <td>Diesel</td>\n",
       "      <td>yes</td>\n",
       "      <td>1999</td>\n",
       "      <td>Sprinter 212</td>\n",
       "    </tr>\n",
       "    <tr>\n",
       "      <th>2</th>\n",
       "      <td>Mercedes-Benz</td>\n",
       "      <td>13300.0</td>\n",
       "      <td>sedan</td>\n",
       "      <td>358</td>\n",
       "      <td>5.0</td>\n",
       "      <td>Gas</td>\n",
       "      <td>yes</td>\n",
       "      <td>2003</td>\n",
       "      <td>S 500</td>\n",
       "    </tr>\n",
       "    <tr>\n",
       "      <th>3</th>\n",
       "      <td>Audi</td>\n",
       "      <td>23000.0</td>\n",
       "      <td>crossover</td>\n",
       "      <td>240</td>\n",
       "      <td>4.2</td>\n",
       "      <td>Petrol</td>\n",
       "      <td>yes</td>\n",
       "      <td>2007</td>\n",
       "      <td>Q7</td>\n",
       "    </tr>\n",
       "    <tr>\n",
       "      <th>4</th>\n",
       "      <td>Toyota</td>\n",
       "      <td>18300.0</td>\n",
       "      <td>crossover</td>\n",
       "      <td>120</td>\n",
       "      <td>2.0</td>\n",
       "      <td>Petrol</td>\n",
       "      <td>yes</td>\n",
       "      <td>2011</td>\n",
       "      <td>Rav 4</td>\n",
       "    </tr>\n",
       "  </tbody>\n",
       "</table>\n",
       "</div>"
      ],
      "text/plain": [
       "           Brand    Price       Body  Mileage  EngineV Engine Type  \\\n",
       "0            BMW   4200.0      sedan      277      2.0      Petrol   \n",
       "1  Mercedes-Benz   7900.0        van      427      2.9      Diesel   \n",
       "2  Mercedes-Benz  13300.0      sedan      358      5.0         Gas   \n",
       "3           Audi  23000.0  crossover      240      4.2      Petrol   \n",
       "4         Toyota  18300.0  crossover      120      2.0      Petrol   \n",
       "\n",
       "  Registration  Year         Model  \n",
       "0          yes  1991           320  \n",
       "1          yes  1999  Sprinter 212  \n",
       "2          yes  2003         S 500  \n",
       "3          yes  2007            Q7  \n",
       "4          yes  2011         Rav 4  "
      ]
     },
     "execution_count": 3,
     "metadata": {},
     "output_type": "execute_result"
    }
   ],
   "source": [
    "df_raw.head()"
   ]
  },
  {
   "cell_type": "markdown",
   "metadata": {},
   "source": [
    "## Pre-processing the Data\n",
    "\n",
    "#### The 'Model' column includes too many categories in order to be converted to dummy variables.\n",
    "#### The 'Registration' column will not have significant impact on the translation of the data.\n",
    "#### We can remove the abovemetioned columns for these reasons"
   ]
  },
  {
   "cell_type": "code",
   "execution_count": 5,
   "metadata": {},
   "outputs": [
    {
     "data": {
      "text/html": [
       "<div>\n",
       "<style scoped>\n",
       "    .dataframe tbody tr th:only-of-type {\n",
       "        vertical-align: middle;\n",
       "    }\n",
       "\n",
       "    .dataframe tbody tr th {\n",
       "        vertical-align: top;\n",
       "    }\n",
       "\n",
       "    .dataframe thead th {\n",
       "        text-align: right;\n",
       "    }\n",
       "</style>\n",
       "<table border=\"1\" class=\"dataframe\">\n",
       "  <thead>\n",
       "    <tr style=\"text-align: right;\">\n",
       "      <th></th>\n",
       "      <th>Brand</th>\n",
       "      <th>Price</th>\n",
       "      <th>Body</th>\n",
       "      <th>Mileage</th>\n",
       "      <th>EngineV</th>\n",
       "      <th>Engine Type</th>\n",
       "      <th>Year</th>\n",
       "    </tr>\n",
       "  </thead>\n",
       "  <tbody>\n",
       "    <tr>\n",
       "      <th>count</th>\n",
       "      <td>4345</td>\n",
       "      <td>4173.000000</td>\n",
       "      <td>4345</td>\n",
       "      <td>4345.000000</td>\n",
       "      <td>4195.000000</td>\n",
       "      <td>4345</td>\n",
       "      <td>4345.000000</td>\n",
       "    </tr>\n",
       "    <tr>\n",
       "      <th>unique</th>\n",
       "      <td>7</td>\n",
       "      <td>NaN</td>\n",
       "      <td>6</td>\n",
       "      <td>NaN</td>\n",
       "      <td>NaN</td>\n",
       "      <td>4</td>\n",
       "      <td>NaN</td>\n",
       "    </tr>\n",
       "    <tr>\n",
       "      <th>top</th>\n",
       "      <td>Volkswagen</td>\n",
       "      <td>NaN</td>\n",
       "      <td>sedan</td>\n",
       "      <td>NaN</td>\n",
       "      <td>NaN</td>\n",
       "      <td>Diesel</td>\n",
       "      <td>NaN</td>\n",
       "    </tr>\n",
       "    <tr>\n",
       "      <th>freq</th>\n",
       "      <td>936</td>\n",
       "      <td>NaN</td>\n",
       "      <td>1649</td>\n",
       "      <td>NaN</td>\n",
       "      <td>NaN</td>\n",
       "      <td>2019</td>\n",
       "      <td>NaN</td>\n",
       "    </tr>\n",
       "    <tr>\n",
       "      <th>mean</th>\n",
       "      <td>NaN</td>\n",
       "      <td>19418.746935</td>\n",
       "      <td>NaN</td>\n",
       "      <td>161.237284</td>\n",
       "      <td>2.790734</td>\n",
       "      <td>NaN</td>\n",
       "      <td>2006.550058</td>\n",
       "    </tr>\n",
       "    <tr>\n",
       "      <th>std</th>\n",
       "      <td>NaN</td>\n",
       "      <td>25584.242620</td>\n",
       "      <td>NaN</td>\n",
       "      <td>105.705797</td>\n",
       "      <td>5.066437</td>\n",
       "      <td>NaN</td>\n",
       "      <td>6.719097</td>\n",
       "    </tr>\n",
       "    <tr>\n",
       "      <th>min</th>\n",
       "      <td>NaN</td>\n",
       "      <td>600.000000</td>\n",
       "      <td>NaN</td>\n",
       "      <td>0.000000</td>\n",
       "      <td>0.600000</td>\n",
       "      <td>NaN</td>\n",
       "      <td>1969.000000</td>\n",
       "    </tr>\n",
       "    <tr>\n",
       "      <th>25%</th>\n",
       "      <td>NaN</td>\n",
       "      <td>6999.000000</td>\n",
       "      <td>NaN</td>\n",
       "      <td>86.000000</td>\n",
       "      <td>1.800000</td>\n",
       "      <td>NaN</td>\n",
       "      <td>2003.000000</td>\n",
       "    </tr>\n",
       "    <tr>\n",
       "      <th>50%</th>\n",
       "      <td>NaN</td>\n",
       "      <td>11500.000000</td>\n",
       "      <td>NaN</td>\n",
       "      <td>155.000000</td>\n",
       "      <td>2.200000</td>\n",
       "      <td>NaN</td>\n",
       "      <td>2008.000000</td>\n",
       "    </tr>\n",
       "    <tr>\n",
       "      <th>75%</th>\n",
       "      <td>NaN</td>\n",
       "      <td>21700.000000</td>\n",
       "      <td>NaN</td>\n",
       "      <td>230.000000</td>\n",
       "      <td>3.000000</td>\n",
       "      <td>NaN</td>\n",
       "      <td>2012.000000</td>\n",
       "    </tr>\n",
       "    <tr>\n",
       "      <th>max</th>\n",
       "      <td>NaN</td>\n",
       "      <td>300000.000000</td>\n",
       "      <td>NaN</td>\n",
       "      <td>980.000000</td>\n",
       "      <td>99.990000</td>\n",
       "      <td>NaN</td>\n",
       "      <td>2016.000000</td>\n",
       "    </tr>\n",
       "  </tbody>\n",
       "</table>\n",
       "</div>"
      ],
      "text/plain": [
       "             Brand          Price   Body      Mileage      EngineV  \\\n",
       "count         4345    4173.000000   4345  4345.000000  4195.000000   \n",
       "unique           7            NaN      6          NaN          NaN   \n",
       "top     Volkswagen            NaN  sedan          NaN          NaN   \n",
       "freq           936            NaN   1649          NaN          NaN   \n",
       "mean           NaN   19418.746935    NaN   161.237284     2.790734   \n",
       "std            NaN   25584.242620    NaN   105.705797     5.066437   \n",
       "min            NaN     600.000000    NaN     0.000000     0.600000   \n",
       "25%            NaN    6999.000000    NaN    86.000000     1.800000   \n",
       "50%            NaN   11500.000000    NaN   155.000000     2.200000   \n",
       "75%            NaN   21700.000000    NaN   230.000000     3.000000   \n",
       "max            NaN  300000.000000    NaN   980.000000    99.990000   \n",
       "\n",
       "       Engine Type         Year  \n",
       "count         4345  4345.000000  \n",
       "unique           4          NaN  \n",
       "top         Diesel          NaN  \n",
       "freq          2019          NaN  \n",
       "mean           NaN  2006.550058  \n",
       "std            NaN     6.719097  \n",
       "min            NaN  1969.000000  \n",
       "25%            NaN  2003.000000  \n",
       "50%            NaN  2008.000000  \n",
       "75%            NaN  2012.000000  \n",
       "max            NaN  2016.000000  "
      ]
     },
     "execution_count": 5,
     "metadata": {},
     "output_type": "execute_result"
    }
   ],
   "source": [
    "df_1 = df_raw.drop(['Model','Registration'], axis=1)\n",
    "df_1.describe(include = 'all')"
   ]
  },
  {
   "cell_type": "markdown",
   "metadata": {},
   "source": [
    "#### Check the null cells"
   ]
  },
  {
   "cell_type": "code",
   "execution_count": 6,
   "metadata": {},
   "outputs": [
    {
     "data": {
      "text/plain": [
       "Brand            0\n",
       "Price          172\n",
       "Body             0\n",
       "Mileage          0\n",
       "EngineV        150\n",
       "Engine Type      0\n",
       "Year             0\n",
       "dtype: int64"
      ]
     },
     "execution_count": 6,
     "metadata": {},
     "output_type": "execute_result"
    }
   ],
   "source": [
    "df_1.isnull().sum()"
   ]
  },
  {
   "cell_type": "markdown",
   "metadata": {},
   "source": [
    "#### We can afford to drop these rows completely, I have considered that less then 5% of data as irrelevant when compared to the negative effect the same data will have on training if included."
   ]
  },
  {
   "cell_type": "code",
   "execution_count": 7,
   "metadata": {},
   "outputs": [
    {
     "data": {
      "text/plain": [
       "Brand          0\n",
       "Price          0\n",
       "Body           0\n",
       "Mileage        0\n",
       "EngineV        0\n",
       "Engine Type    0\n",
       "Year           0\n",
       "dtype: int64"
      ]
     },
     "execution_count": 7,
     "metadata": {},
     "output_type": "execute_result"
    }
   ],
   "source": [
    "df_2 = df_1.dropna(axis=0)\n",
    "df_2.isnull().sum()"
   ]
  },
  {
   "cell_type": "code",
   "execution_count": 8,
   "metadata": {},
   "outputs": [
    {
     "data": {
      "text/html": [
       "<div>\n",
       "<style scoped>\n",
       "    .dataframe tbody tr th:only-of-type {\n",
       "        vertical-align: middle;\n",
       "    }\n",
       "\n",
       "    .dataframe tbody tr th {\n",
       "        vertical-align: top;\n",
       "    }\n",
       "\n",
       "    .dataframe thead th {\n",
       "        text-align: right;\n",
       "    }\n",
       "</style>\n",
       "<table border=\"1\" class=\"dataframe\">\n",
       "  <thead>\n",
       "    <tr style=\"text-align: right;\">\n",
       "      <th></th>\n",
       "      <th>Brand</th>\n",
       "      <th>Price</th>\n",
       "      <th>Body</th>\n",
       "      <th>Mileage</th>\n",
       "      <th>EngineV</th>\n",
       "      <th>Engine Type</th>\n",
       "      <th>Year</th>\n",
       "    </tr>\n",
       "  </thead>\n",
       "  <tbody>\n",
       "    <tr>\n",
       "      <th>count</th>\n",
       "      <td>4025</td>\n",
       "      <td>4025.000000</td>\n",
       "      <td>4025</td>\n",
       "      <td>4025.000000</td>\n",
       "      <td>4025.000000</td>\n",
       "      <td>4025</td>\n",
       "      <td>4025.000000</td>\n",
       "    </tr>\n",
       "    <tr>\n",
       "      <th>unique</th>\n",
       "      <td>7</td>\n",
       "      <td>NaN</td>\n",
       "      <td>6</td>\n",
       "      <td>NaN</td>\n",
       "      <td>NaN</td>\n",
       "      <td>4</td>\n",
       "      <td>NaN</td>\n",
       "    </tr>\n",
       "    <tr>\n",
       "      <th>top</th>\n",
       "      <td>Volkswagen</td>\n",
       "      <td>NaN</td>\n",
       "      <td>sedan</td>\n",
       "      <td>NaN</td>\n",
       "      <td>NaN</td>\n",
       "      <td>Diesel</td>\n",
       "      <td>NaN</td>\n",
       "    </tr>\n",
       "    <tr>\n",
       "      <th>freq</th>\n",
       "      <td>880</td>\n",
       "      <td>NaN</td>\n",
       "      <td>1534</td>\n",
       "      <td>NaN</td>\n",
       "      <td>NaN</td>\n",
       "      <td>1861</td>\n",
       "      <td>NaN</td>\n",
       "    </tr>\n",
       "    <tr>\n",
       "      <th>mean</th>\n",
       "      <td>NaN</td>\n",
       "      <td>19552.308065</td>\n",
       "      <td>NaN</td>\n",
       "      <td>163.572174</td>\n",
       "      <td>2.764586</td>\n",
       "      <td>NaN</td>\n",
       "      <td>2006.379627</td>\n",
       "    </tr>\n",
       "    <tr>\n",
       "      <th>std</th>\n",
       "      <td>NaN</td>\n",
       "      <td>25815.734988</td>\n",
       "      <td>NaN</td>\n",
       "      <td>103.394703</td>\n",
       "      <td>4.935941</td>\n",
       "      <td>NaN</td>\n",
       "      <td>6.695595</td>\n",
       "    </tr>\n",
       "    <tr>\n",
       "      <th>min</th>\n",
       "      <td>NaN</td>\n",
       "      <td>600.000000</td>\n",
       "      <td>NaN</td>\n",
       "      <td>0.000000</td>\n",
       "      <td>0.600000</td>\n",
       "      <td>NaN</td>\n",
       "      <td>1969.000000</td>\n",
       "    </tr>\n",
       "    <tr>\n",
       "      <th>25%</th>\n",
       "      <td>NaN</td>\n",
       "      <td>6999.000000</td>\n",
       "      <td>NaN</td>\n",
       "      <td>90.000000</td>\n",
       "      <td>1.800000</td>\n",
       "      <td>NaN</td>\n",
       "      <td>2003.000000</td>\n",
       "    </tr>\n",
       "    <tr>\n",
       "      <th>50%</th>\n",
       "      <td>NaN</td>\n",
       "      <td>11500.000000</td>\n",
       "      <td>NaN</td>\n",
       "      <td>158.000000</td>\n",
       "      <td>2.200000</td>\n",
       "      <td>NaN</td>\n",
       "      <td>2007.000000</td>\n",
       "    </tr>\n",
       "    <tr>\n",
       "      <th>75%</th>\n",
       "      <td>NaN</td>\n",
       "      <td>21900.000000</td>\n",
       "      <td>NaN</td>\n",
       "      <td>230.000000</td>\n",
       "      <td>3.000000</td>\n",
       "      <td>NaN</td>\n",
       "      <td>2012.000000</td>\n",
       "    </tr>\n",
       "    <tr>\n",
       "      <th>max</th>\n",
       "      <td>NaN</td>\n",
       "      <td>300000.000000</td>\n",
       "      <td>NaN</td>\n",
       "      <td>980.000000</td>\n",
       "      <td>99.990000</td>\n",
       "      <td>NaN</td>\n",
       "      <td>2016.000000</td>\n",
       "    </tr>\n",
       "  </tbody>\n",
       "</table>\n",
       "</div>"
      ],
      "text/plain": [
       "             Brand          Price   Body      Mileage      EngineV  \\\n",
       "count         4025    4025.000000   4025  4025.000000  4025.000000   \n",
       "unique           7            NaN      6          NaN          NaN   \n",
       "top     Volkswagen            NaN  sedan          NaN          NaN   \n",
       "freq           880            NaN   1534          NaN          NaN   \n",
       "mean           NaN   19552.308065    NaN   163.572174     2.764586   \n",
       "std            NaN   25815.734988    NaN   103.394703     4.935941   \n",
       "min            NaN     600.000000    NaN     0.000000     0.600000   \n",
       "25%            NaN    6999.000000    NaN    90.000000     1.800000   \n",
       "50%            NaN   11500.000000    NaN   158.000000     2.200000   \n",
       "75%            NaN   21900.000000    NaN   230.000000     3.000000   \n",
       "max            NaN  300000.000000    NaN   980.000000    99.990000   \n",
       "\n",
       "       Engine Type         Year  \n",
       "count         4025  4025.000000  \n",
       "unique           4          NaN  \n",
       "top         Diesel          NaN  \n",
       "freq          1861          NaN  \n",
       "mean           NaN  2006.379627  \n",
       "std            NaN     6.695595  \n",
       "min            NaN  1969.000000  \n",
       "25%            NaN  2003.000000  \n",
       "50%            NaN  2007.000000  \n",
       "75%            NaN  2012.000000  \n",
       "max            NaN  2016.000000  "
      ]
     },
     "execution_count": 8,
     "metadata": {},
     "output_type": "execute_result"
    }
   ],
   "source": [
    "df_2.describe(include='all')"
   ]
  },
  {
   "cell_type": "code",
   "execution_count": 9,
   "metadata": {},
   "outputs": [
    {
     "data": {
      "text/plain": [
       "<matplotlib.axes._subplots.AxesSubplot at 0x11d6c182d30>"
      ]
     },
     "execution_count": 9,
     "metadata": {},
     "output_type": "execute_result"
    },
    {
     "data": {
      "image/png": "[encoded data removed]",
      "text/plain": [
       "<Figure size 432x288 with 1 Axes>"
      ]
     },
     "metadata": {},
     "output_type": "display_data"
    }
   ],
   "source": [
    "sns.distplot(df_2['Price'])"
   ]
  },
  {
   "cell_type": "markdown",
   "metadata": {},
   "source": [
    "#### As noticed in the graph above, the distribution of the 'Price' data is extremely skewed, seemingly due to very few outliers which are high in value in terms of the purchase price of a vehicle and very far off from the mean, as a result, I have chosen to remove anything above 90% quantile.\n",
    "\n",
    "#### Below is the process and result, the graph is now much more normally distributed."
   ]
  },
  {
   "cell_type": "code",
   "execution_count": 10,
   "metadata": {},
   "outputs": [
    {
     "data": {
      "text/plain": [
       "<matplotlib.axes._subplots.AxesSubplot at 0x11d6e2db220>"
      ]
     },
     "execution_count": 10,
     "metadata": {},
     "output_type": "execute_result"
    },
    {
     "data": {
      "image/png": "[encoded data removed]",
      "text/plain": [
       "<Figure size 432x288 with 1 Axes>"
      ]
     },
     "metadata": {},
     "output_type": "display_data"
    }
   ],
   "source": [
    "q = df_2[\"Price\"].quantile(0.90)\n",
    "df_3 = df_2[df_2[\"Price\"]<q]\n",
    "sns.distplot(df_3['Price'])"
   ]
  },
  {
   "cell_type": "code",
   "execution_count": 11,
   "metadata": {},
   "outputs": [
    {
     "data": {
      "text/html": [
       "<div>\n",
       "<style scoped>\n",
       "    .dataframe tbody tr th:only-of-type {\n",
       "        vertical-align: middle;\n",
       "    }\n",
       "\n",
       "    .dataframe tbody tr th {\n",
       "        vertical-align: top;\n",
       "    }\n",
       "\n",
       "    .dataframe thead th {\n",
       "        text-align: right;\n",
       "    }\n",
       "</style>\n",
       "<table border=\"1\" class=\"dataframe\">\n",
       "  <thead>\n",
       "    <tr style=\"text-align: right;\">\n",
       "      <th></th>\n",
       "      <th>Brand</th>\n",
       "      <th>Price</th>\n",
       "      <th>Body</th>\n",
       "      <th>Mileage</th>\n",
       "      <th>EngineV</th>\n",
       "      <th>Engine Type</th>\n",
       "      <th>Year</th>\n",
       "    </tr>\n",
       "  </thead>\n",
       "  <tbody>\n",
       "    <tr>\n",
       "      <th>count</th>\n",
       "      <td>3622</td>\n",
       "      <td>3622.000000</td>\n",
       "      <td>3622</td>\n",
       "      <td>3622.000000</td>\n",
       "      <td>3622.000000</td>\n",
       "      <td>3622</td>\n",
       "      <td>3622.000000</td>\n",
       "    </tr>\n",
       "    <tr>\n",
       "      <th>unique</th>\n",
       "      <td>7</td>\n",
       "      <td>NaN</td>\n",
       "      <td>6</td>\n",
       "      <td>NaN</td>\n",
       "      <td>NaN</td>\n",
       "      <td>4</td>\n",
       "      <td>NaN</td>\n",
       "    </tr>\n",
       "    <tr>\n",
       "      <th>top</th>\n",
       "      <td>Volkswagen</td>\n",
       "      <td>NaN</td>\n",
       "      <td>sedan</td>\n",
       "      <td>NaN</td>\n",
       "      <td>NaN</td>\n",
       "      <td>Diesel</td>\n",
       "      <td>NaN</td>\n",
       "    </tr>\n",
       "    <tr>\n",
       "      <th>freq</th>\n",
       "      <td>850</td>\n",
       "      <td>NaN</td>\n",
       "      <td>1444</td>\n",
       "      <td>NaN</td>\n",
       "      <td>NaN</td>\n",
       "      <td>1608</td>\n",
       "      <td>NaN</td>\n",
       "    </tr>\n",
       "    <tr>\n",
       "      <th>mean</th>\n",
       "      <td>NaN</td>\n",
       "      <td>12951.076521</td>\n",
       "      <td>NaN</td>\n",
       "      <td>177.020983</td>\n",
       "      <td>2.688192</td>\n",
       "      <td>NaN</td>\n",
       "      <td>2005.546107</td>\n",
       "    </tr>\n",
       "    <tr>\n",
       "      <th>std</th>\n",
       "      <td>NaN</td>\n",
       "      <td>9028.269200</td>\n",
       "      <td>NaN</td>\n",
       "      <td>97.240484</td>\n",
       "      <td>5.183080</td>\n",
       "      <td>NaN</td>\n",
       "      <td>6.507230</td>\n",
       "    </tr>\n",
       "    <tr>\n",
       "      <th>min</th>\n",
       "      <td>NaN</td>\n",
       "      <td>600.000000</td>\n",
       "      <td>NaN</td>\n",
       "      <td>0.000000</td>\n",
       "      <td>0.600000</td>\n",
       "      <td>NaN</td>\n",
       "      <td>1969.000000</td>\n",
       "    </tr>\n",
       "    <tr>\n",
       "      <th>25%</th>\n",
       "      <td>NaN</td>\n",
       "      <td>6500.000000</td>\n",
       "      <td>NaN</td>\n",
       "      <td>110.000000</td>\n",
       "      <td>1.800000</td>\n",
       "      <td>NaN</td>\n",
       "      <td>2002.000000</td>\n",
       "    </tr>\n",
       "    <tr>\n",
       "      <th>50%</th>\n",
       "      <td>NaN</td>\n",
       "      <td>10400.000000</td>\n",
       "      <td>NaN</td>\n",
       "      <td>170.000000</td>\n",
       "      <td>2.000000</td>\n",
       "      <td>NaN</td>\n",
       "      <td>2007.000000</td>\n",
       "    </tr>\n",
       "    <tr>\n",
       "      <th>75%</th>\n",
       "      <td>NaN</td>\n",
       "      <td>17500.000000</td>\n",
       "      <td>NaN</td>\n",
       "      <td>240.000000</td>\n",
       "      <td>2.800000</td>\n",
       "      <td>NaN</td>\n",
       "      <td>2011.000000</td>\n",
       "    </tr>\n",
       "    <tr>\n",
       "      <th>max</th>\n",
       "      <td>NaN</td>\n",
       "      <td>40990.000000</td>\n",
       "      <td>NaN</td>\n",
       "      <td>800.000000</td>\n",
       "      <td>99.990000</td>\n",
       "      <td>NaN</td>\n",
       "      <td>2016.000000</td>\n",
       "    </tr>\n",
       "  </tbody>\n",
       "</table>\n",
       "</div>"
      ],
      "text/plain": [
       "             Brand         Price   Body      Mileage      EngineV Engine Type  \\\n",
       "count         3622   3622.000000   3622  3622.000000  3622.000000        3622   \n",
       "unique           7           NaN      6          NaN          NaN           4   \n",
       "top     Volkswagen           NaN  sedan          NaN          NaN      Diesel   \n",
       "freq           850           NaN   1444          NaN          NaN        1608   \n",
       "mean           NaN  12951.076521    NaN   177.020983     2.688192         NaN   \n",
       "std            NaN   9028.269200    NaN    97.240484     5.183080         NaN   \n",
       "min            NaN    600.000000    NaN     0.000000     0.600000         NaN   \n",
       "25%            NaN   6500.000000    NaN   110.000000     1.800000         NaN   \n",
       "50%            NaN  10400.000000    NaN   170.000000     2.000000         NaN   \n",
       "75%            NaN  17500.000000    NaN   240.000000     2.800000         NaN   \n",
       "max            NaN  40990.000000    NaN   800.000000    99.990000         NaN   \n",
       "\n",
       "               Year  \n",
       "count   3622.000000  \n",
       "unique          NaN  \n",
       "top             NaN  \n",
       "freq            NaN  \n",
       "mean    2005.546107  \n",
       "std        6.507230  \n",
       "min     1969.000000  \n",
       "25%     2002.000000  \n",
       "50%     2007.000000  \n",
       "75%     2011.000000  \n",
       "max     2016.000000  "
      ]
     },
     "execution_count": 11,
     "metadata": {},
     "output_type": "execute_result"
    }
   ],
   "source": [
    "df_3.describe(include='all')"
   ]
  },
  {
   "cell_type": "code",
   "execution_count": 12,
   "metadata": {},
   "outputs": [
    {
     "data": {
      "text/plain": [
       "<matplotlib.axes._subplots.AxesSubplot at 0x11d6e36a520>"
      ]
     },
     "execution_count": 12,
     "metadata": {},
     "output_type": "execute_result"
    },
    {
     "data": {
      "image/png": "[encoded data removed]",
      "text/plain": [
       "<Figure size 432x288 with 1 Axes>"
      ]
     },
     "metadata": {},
     "output_type": "display_data"
    }
   ],
   "source": [
    "sns.distplot(df_3['Mileage'])"
   ]
  },
  {
   "cell_type": "markdown",
   "metadata": {},
   "source": [
    "#### The 'Mileage\" data seems to have a fairly skewed distribution whereby outliers could negatively effect the efficiency of the model.\n",
    "\n",
    "#### I have removed outliers above 90% quantile, the process and result is seen below, with a much improved normal distribution."
   ]
  },
  {
   "cell_type": "code",
   "execution_count": 13,
   "metadata": {},
   "outputs": [
    {
     "data": {
      "text/plain": [
       "<matplotlib.axes._subplots.AxesSubplot at 0x11d6e465bb0>"
      ]
     },
     "execution_count": 13,
     "metadata": {},
     "output_type": "execute_result"
    },
    {
     "data": {
      "image/png": "[encoded data removed]",
      "text/plain": [
       "<Figure size 432x288 with 1 Axes>"
      ]
     },
     "metadata": {},
     "output_type": "display_data"
    }
   ],
   "source": [
    "q = df_3[\"Mileage\"].quantile(0.90)\n",
    "df_4 = df_3[df_3[\"Mileage\"]<q]\n",
    "sns.distplot(df_4['Mileage'])"
   ]
  },
  {
   "cell_type": "code",
   "execution_count": 14,
   "metadata": {},
   "outputs": [
    {
     "data": {
      "text/html": [
       "<div>\n",
       "<style scoped>\n",
       "    .dataframe tbody tr th:only-of-type {\n",
       "        vertical-align: middle;\n",
       "    }\n",
       "\n",
       "    .dataframe tbody tr th {\n",
       "        vertical-align: top;\n",
       "    }\n",
       "\n",
       "    .dataframe thead th {\n",
       "        text-align: right;\n",
       "    }\n",
       "</style>\n",
       "<table border=\"1\" class=\"dataframe\">\n",
       "  <thead>\n",
       "    <tr style=\"text-align: right;\">\n",
       "      <th></th>\n",
       "      <th>Brand</th>\n",
       "      <th>Price</th>\n",
       "      <th>Body</th>\n",
       "      <th>Mileage</th>\n",
       "      <th>EngineV</th>\n",
       "      <th>Engine Type</th>\n",
       "      <th>Year</th>\n",
       "    </tr>\n",
       "  </thead>\n",
       "  <tbody>\n",
       "    <tr>\n",
       "      <th>count</th>\n",
       "      <td>3229</td>\n",
       "      <td>3229.000000</td>\n",
       "      <td>3229</td>\n",
       "      <td>3229.000000</td>\n",
       "      <td>3229.000000</td>\n",
       "      <td>3229</td>\n",
       "      <td>3229.000000</td>\n",
       "    </tr>\n",
       "    <tr>\n",
       "      <th>unique</th>\n",
       "      <td>7</td>\n",
       "      <td>NaN</td>\n",
       "      <td>6</td>\n",
       "      <td>NaN</td>\n",
       "      <td>NaN</td>\n",
       "      <td>4</td>\n",
       "      <td>NaN</td>\n",
       "    </tr>\n",
       "    <tr>\n",
       "      <th>top</th>\n",
       "      <td>Volkswagen</td>\n",
       "      <td>NaN</td>\n",
       "      <td>sedan</td>\n",
       "      <td>NaN</td>\n",
       "      <td>NaN</td>\n",
       "      <td>Diesel</td>\n",
       "      <td>NaN</td>\n",
       "    </tr>\n",
       "    <tr>\n",
       "      <th>freq</th>\n",
       "      <td>766</td>\n",
       "      <td>NaN</td>\n",
       "      <td>1226</td>\n",
       "      <td>NaN</td>\n",
       "      <td>NaN</td>\n",
       "      <td>1408</td>\n",
       "      <td>NaN</td>\n",
       "    </tr>\n",
       "    <tr>\n",
       "      <th>mean</th>\n",
       "      <td>NaN</td>\n",
       "      <td>13829.458365</td>\n",
       "      <td>NaN</td>\n",
       "      <td>154.971818</td>\n",
       "      <td>2.655088</td>\n",
       "      <td>NaN</td>\n",
       "      <td>2006.567668</td>\n",
       "    </tr>\n",
       "    <tr>\n",
       "      <th>std</th>\n",
       "      <td>NaN</td>\n",
       "      <td>9108.664930</td>\n",
       "      <td>NaN</td>\n",
       "      <td>75.017525</td>\n",
       "      <td>4.910637</td>\n",
       "      <td>NaN</td>\n",
       "      <td>5.855246</td>\n",
       "    </tr>\n",
       "    <tr>\n",
       "      <th>min</th>\n",
       "      <td>NaN</td>\n",
       "      <td>600.000000</td>\n",
       "      <td>NaN</td>\n",
       "      <td>0.000000</td>\n",
       "      <td>0.600000</td>\n",
       "      <td>NaN</td>\n",
       "      <td>1969.000000</td>\n",
       "    </tr>\n",
       "    <tr>\n",
       "      <th>25%</th>\n",
       "      <td>NaN</td>\n",
       "      <td>7400.000000</td>\n",
       "      <td>NaN</td>\n",
       "      <td>102.000000</td>\n",
       "      <td>1.800000</td>\n",
       "      <td>NaN</td>\n",
       "      <td>2004.000000</td>\n",
       "    </tr>\n",
       "    <tr>\n",
       "      <th>50%</th>\n",
       "      <td>NaN</td>\n",
       "      <td>11300.000000</td>\n",
       "      <td>NaN</td>\n",
       "      <td>158.000000</td>\n",
       "      <td>2.000000</td>\n",
       "      <td>NaN</td>\n",
       "      <td>2007.000000</td>\n",
       "    </tr>\n",
       "    <tr>\n",
       "      <th>75%</th>\n",
       "      <td>NaN</td>\n",
       "      <td>18500.000000</td>\n",
       "      <td>NaN</td>\n",
       "      <td>212.000000</td>\n",
       "      <td>2.800000</td>\n",
       "      <td>NaN</td>\n",
       "      <td>2011.000000</td>\n",
       "    </tr>\n",
       "    <tr>\n",
       "      <th>max</th>\n",
       "      <td>NaN</td>\n",
       "      <td>40990.000000</td>\n",
       "      <td>NaN</td>\n",
       "      <td>299.000000</td>\n",
       "      <td>99.990000</td>\n",
       "      <td>NaN</td>\n",
       "      <td>2016.000000</td>\n",
       "    </tr>\n",
       "  </tbody>\n",
       "</table>\n",
       "</div>"
      ],
      "text/plain": [
       "             Brand         Price   Body      Mileage      EngineV Engine Type  \\\n",
       "count         3229   3229.000000   3229  3229.000000  3229.000000        3229   \n",
       "unique           7           NaN      6          NaN          NaN           4   \n",
       "top     Volkswagen           NaN  sedan          NaN          NaN      Diesel   \n",
       "freq           766           NaN   1226          NaN          NaN        1408   \n",
       "mean           NaN  13829.458365    NaN   154.971818     2.655088         NaN   \n",
       "std            NaN   9108.664930    NaN    75.017525     4.910637         NaN   \n",
       "min            NaN    600.000000    NaN     0.000000     0.600000         NaN   \n",
       "25%            NaN   7400.000000    NaN   102.000000     1.800000         NaN   \n",
       "50%            NaN  11300.000000    NaN   158.000000     2.000000         NaN   \n",
       "75%            NaN  18500.000000    NaN   212.000000     2.800000         NaN   \n",
       "max            NaN  40990.000000    NaN   299.000000    99.990000         NaN   \n",
       "\n",
       "               Year  \n",
       "count   3229.000000  \n",
       "unique          NaN  \n",
       "top             NaN  \n",
       "freq            NaN  \n",
       "mean    2006.567668  \n",
       "std        5.855246  \n",
       "min     1969.000000  \n",
       "25%     2004.000000  \n",
       "50%     2007.000000  \n",
       "75%     2011.000000  \n",
       "max     2016.000000  "
      ]
     },
     "execution_count": 14,
     "metadata": {},
     "output_type": "execute_result"
    }
   ],
   "source": [
    "df_4.describe(include='all')"
   ]
  },
  {
   "cell_type": "code",
   "execution_count": 15,
   "metadata": {},
   "outputs": [
    {
     "data": {
      "text/plain": [
       "<matplotlib.axes._subplots.AxesSubplot at 0x11d6e291e20>"
      ]
     },
     "execution_count": 15,
     "metadata": {},
     "output_type": "execute_result"
    },
    {
     "data": {
      "image/png": "[encoded data removed]",
      "text/plain": [
       "<Figure size 432x288 with 1 Axes>"
      ]
     },
     "metadata": {},
     "output_type": "display_data"
    }
   ],
   "source": [
    "sns.distplot(df_4['EngineV'])"
   ]
  },
  {
   "cell_type": "markdown",
   "metadata": {},
   "source": [
    "#### The 'EngineV' data is excessively skewed which is irregular in terms of engine volume standards."
   ]
  },
  {
   "cell_type": "code",
   "execution_count": 16,
   "metadata": {},
   "outputs": [
    {
     "data": {
      "text/plain": [
       "array([ 2.  ,  4.2 ,  2.7 ,  1.5 ,  1.8 ,  1.79,  4.7 ,  2.5 ,  2.4 ,\n",
       "        1.4 ,  3.  ,  2.2 ,  1.3 ,  2.3 ,  3.8 ,  4.8 ,  1.9 ,  2.15,\n",
       "        5.  ,  3.5 ,  1.6 ,  4.  ,  3.2 ,  1.1 ,  4.4 ,  2.6 ,  0.65,\n",
       "        1.7 ,  4.5 ,  4.6 ,  5.5 ,  3.6 ,  2.8 ,  2.99,  1.  , 99.99,\n",
       "        5.7 ,  1.2 ,  3.7 ,  6.  , 15.  ,  6.2 ,  2.9 ,  4.3 ,  6.3 ,\n",
       "       30.  , 28.  , 22.  ,  1.33,  2.1 ,  2.14, 55.  ,  1.39,  7.2 ,\n",
       "       20.  , 74.  , 66.  , 90.  ,  1.46,  0.6 ,  5.2 ,  1.59,  2.57,\n",
       "       75.  ,  9.  ,  5.46,  6.5 , 19.  ])"
      ]
     },
     "execution_count": 16,
     "metadata": {},
     "output_type": "execute_result"
    }
   ],
   "source": [
    "df_4['EngineV'].unique()"
   ]
  },
  {
   "cell_type": "markdown",
   "metadata": {},
   "source": [
    "#### As noticed above, there are inputs up to 99.99, which is incorrect and likely to be human error upon capturing the data.\n",
    "\n",
    "#### As part of my research, I make reference to the website: https://jalopnik.com/the-worlds-ten-largest-engines-509258535\n",
    "#### In which I found that the largest engine volume currently in a production vehicle is 8.4 litres.\n",
    "\n",
    "#### I have decided to set 6.0 as a maximum, removing everything above due to possible outliers which do not occur frequently, this is expected to improve the efficiency of the model."
   ]
  },
  {
   "cell_type": "code",
   "execution_count": 17,
   "metadata": {},
   "outputs": [
    {
     "data": {
      "text/plain": [
       "<matplotlib.axes._subplots.AxesSubplot at 0x11d6e5b0c70>"
      ]
     },
     "execution_count": 17,
     "metadata": {},
     "output_type": "execute_result"
    },
    {
     "data": {
      "image/png": "[encoded data removed]",
      "text/plain": [
       "<Figure size 432x288 with 1 Axes>"
      ]
     },
     "metadata": {},
     "output_type": "display_data"
    }
   ],
   "source": [
    "df_5 = df_4[df_4[\"EngineV\"]<6.0]\n",
    "sns.distplot(df_5['EngineV'])"
   ]
  },
  {
   "cell_type": "code",
   "execution_count": 18,
   "metadata": {},
   "outputs": [
    {
     "data": {
      "text/html": [
       "<div>\n",
       "<style scoped>\n",
       "    .dataframe tbody tr th:only-of-type {\n",
       "        vertical-align: middle;\n",
       "    }\n",
       "\n",
       "    .dataframe tbody tr th {\n",
       "        vertical-align: top;\n",
       "    }\n",
       "\n",
       "    .dataframe thead th {\n",
       "        text-align: right;\n",
       "    }\n",
       "</style>\n",
       "<table border=\"1\" class=\"dataframe\">\n",
       "  <thead>\n",
       "    <tr style=\"text-align: right;\">\n",
       "      <th></th>\n",
       "      <th>Brand</th>\n",
       "      <th>Price</th>\n",
       "      <th>Body</th>\n",
       "      <th>Mileage</th>\n",
       "      <th>EngineV</th>\n",
       "      <th>Engine Type</th>\n",
       "      <th>Year</th>\n",
       "    </tr>\n",
       "  </thead>\n",
       "  <tbody>\n",
       "    <tr>\n",
       "      <th>count</th>\n",
       "      <td>3195</td>\n",
       "      <td>3195.000000</td>\n",
       "      <td>3195</td>\n",
       "      <td>3195.000000</td>\n",
       "      <td>3195.000000</td>\n",
       "      <td>3195</td>\n",
       "      <td>3195.000000</td>\n",
       "    </tr>\n",
       "    <tr>\n",
       "      <th>unique</th>\n",
       "      <td>7</td>\n",
       "      <td>NaN</td>\n",
       "      <td>6</td>\n",
       "      <td>NaN</td>\n",
       "      <td>NaN</td>\n",
       "      <td>4</td>\n",
       "      <td>NaN</td>\n",
       "    </tr>\n",
       "    <tr>\n",
       "      <th>top</th>\n",
       "      <td>Volkswagen</td>\n",
       "      <td>NaN</td>\n",
       "      <td>sedan</td>\n",
       "      <td>NaN</td>\n",
       "      <td>NaN</td>\n",
       "      <td>Diesel</td>\n",
       "      <td>NaN</td>\n",
       "    </tr>\n",
       "    <tr>\n",
       "      <th>freq</th>\n",
       "      <td>761</td>\n",
       "      <td>NaN</td>\n",
       "      <td>1209</td>\n",
       "      <td>NaN</td>\n",
       "      <td>NaN</td>\n",
       "      <td>1401</td>\n",
       "      <td>NaN</td>\n",
       "    </tr>\n",
       "    <tr>\n",
       "      <th>mean</th>\n",
       "      <td>NaN</td>\n",
       "      <td>13812.408469</td>\n",
       "      <td>NaN</td>\n",
       "      <td>154.819718</td>\n",
       "      <td>2.331997</td>\n",
       "      <td>NaN</td>\n",
       "      <td>2006.584038</td>\n",
       "    </tr>\n",
       "    <tr>\n",
       "      <th>std</th>\n",
       "      <td>NaN</td>\n",
       "      <td>9074.099668</td>\n",
       "      <td>NaN</td>\n",
       "      <td>75.103594</td>\n",
       "      <td>0.866920</td>\n",
       "      <td>NaN</td>\n",
       "      <td>5.864420</td>\n",
       "    </tr>\n",
       "    <tr>\n",
       "      <th>min</th>\n",
       "      <td>NaN</td>\n",
       "      <td>600.000000</td>\n",
       "      <td>NaN</td>\n",
       "      <td>0.000000</td>\n",
       "      <td>0.600000</td>\n",
       "      <td>NaN</td>\n",
       "      <td>1969.000000</td>\n",
       "    </tr>\n",
       "    <tr>\n",
       "      <th>25%</th>\n",
       "      <td>NaN</td>\n",
       "      <td>7400.000000</td>\n",
       "      <td>NaN</td>\n",
       "      <td>102.000000</td>\n",
       "      <td>1.800000</td>\n",
       "      <td>NaN</td>\n",
       "      <td>2004.000000</td>\n",
       "    </tr>\n",
       "    <tr>\n",
       "      <th>50%</th>\n",
       "      <td>NaN</td>\n",
       "      <td>11300.000000</td>\n",
       "      <td>NaN</td>\n",
       "      <td>158.000000</td>\n",
       "      <td>2.000000</td>\n",
       "      <td>NaN</td>\n",
       "      <td>2008.000000</td>\n",
       "    </tr>\n",
       "    <tr>\n",
       "      <th>75%</th>\n",
       "      <td>NaN</td>\n",
       "      <td>18500.000000</td>\n",
       "      <td>NaN</td>\n",
       "      <td>212.000000</td>\n",
       "      <td>2.700000</td>\n",
       "      <td>NaN</td>\n",
       "      <td>2011.000000</td>\n",
       "    </tr>\n",
       "    <tr>\n",
       "      <th>max</th>\n",
       "      <td>NaN</td>\n",
       "      <td>40990.000000</td>\n",
       "      <td>NaN</td>\n",
       "      <td>299.000000</td>\n",
       "      <td>5.700000</td>\n",
       "      <td>NaN</td>\n",
       "      <td>2016.000000</td>\n",
       "    </tr>\n",
       "  </tbody>\n",
       "</table>\n",
       "</div>"
      ],
      "text/plain": [
       "             Brand         Price   Body      Mileage      EngineV Engine Type  \\\n",
       "count         3195   3195.000000   3195  3195.000000  3195.000000        3195   \n",
       "unique           7           NaN      6          NaN          NaN           4   \n",
       "top     Volkswagen           NaN  sedan          NaN          NaN      Diesel   \n",
       "freq           761           NaN   1209          NaN          NaN        1401   \n",
       "mean           NaN  13812.408469    NaN   154.819718     2.331997         NaN   \n",
       "std            NaN   9074.099668    NaN    75.103594     0.866920         NaN   \n",
       "min            NaN    600.000000    NaN     0.000000     0.600000         NaN   \n",
       "25%            NaN   7400.000000    NaN   102.000000     1.800000         NaN   \n",
       "50%            NaN  11300.000000    NaN   158.000000     2.000000         NaN   \n",
       "75%            NaN  18500.000000    NaN   212.000000     2.700000         NaN   \n",
       "max            NaN  40990.000000    NaN   299.000000     5.700000         NaN   \n",
       "\n",
       "               Year  \n",
       "count   3195.000000  \n",
       "unique          NaN  \n",
       "top             NaN  \n",
       "freq            NaN  \n",
       "mean    2006.584038  \n",
       "std        5.864420  \n",
       "min     1969.000000  \n",
       "25%     2004.000000  \n",
       "50%     2008.000000  \n",
       "75%     2011.000000  \n",
       "max     2016.000000  "
      ]
     },
     "execution_count": 18,
     "metadata": {},
     "output_type": "execute_result"
    }
   ],
   "source": [
    "df_5.describe(include='all')"
   ]
  },
  {
   "cell_type": "code",
   "execution_count": 19,
   "metadata": {},
   "outputs": [
    {
     "data": {
      "text/plain": [
       "<matplotlib.axes._subplots.AxesSubplot at 0x11d6e68fdc0>"
      ]
     },
     "execution_count": 19,
     "metadata": {},
     "output_type": "execute_result"
    },
    {
     "data": {
      "image/png": "[encoded data removed]",
      "text/plain": [
       "<Figure size 432x288 with 1 Axes>"
      ]
     },
     "metadata": {},
     "output_type": "display_data"
    }
   ],
   "source": [
    "sns.distplot(df_5['Year'])"
   ]
  },
  {
   "cell_type": "markdown",
   "metadata": {},
   "source": [
    "#### The 'Year' data includes a few outliers as well, these are much older models which are unlikely to be a frequent purchase in future, hence my decision to remove data in the 5% (oldest) quantile.\n",
    "\n",
    "#### The result below is a much improved normal distribution."
   ]
  },
  {
   "cell_type": "code",
   "execution_count": 20,
   "metadata": {},
   "outputs": [
    {
     "data": {
      "text/plain": [
       "<matplotlib.axes._subplots.AxesSubplot at 0x11d6e75e130>"
      ]
     },
     "execution_count": 20,
     "metadata": {},
     "output_type": "execute_result"
    },
    {
     "data": {
      "image/png": "[encoded data removed]",
      "text/plain": [
       "<Figure size 432x288 with 1 Axes>"
      ]
     },
     "metadata": {},
     "output_type": "display_data"
    }
   ],
   "source": [
    "q = df_5['Year'].quantile(0.05) \n",
    "df_6 = df_5[df_5['Year']>q]\n",
    "sns.distplot(df_6['Year'])"
   ]
  },
  {
   "cell_type": "code",
   "execution_count": 21,
   "metadata": {},
   "outputs": [
    {
     "data": {
      "text/html": [
       "<div>\n",
       "<style scoped>\n",
       "    .dataframe tbody tr th:only-of-type {\n",
       "        vertical-align: middle;\n",
       "    }\n",
       "\n",
       "    .dataframe tbody tr th {\n",
       "        vertical-align: top;\n",
       "    }\n",
       "\n",
       "    .dataframe thead th {\n",
       "        text-align: right;\n",
       "    }\n",
       "</style>\n",
       "<table border=\"1\" class=\"dataframe\">\n",
       "  <thead>\n",
       "    <tr style=\"text-align: right;\">\n",
       "      <th></th>\n",
       "      <th>Brand</th>\n",
       "      <th>Price</th>\n",
       "      <th>Body</th>\n",
       "      <th>Mileage</th>\n",
       "      <th>EngineV</th>\n",
       "      <th>Engine Type</th>\n",
       "      <th>Year</th>\n",
       "    </tr>\n",
       "  </thead>\n",
       "  <tbody>\n",
       "    <tr>\n",
       "      <th>count</th>\n",
       "      <td>3008</td>\n",
       "      <td>3008.000000</td>\n",
       "      <td>3008</td>\n",
       "      <td>3008.000000</td>\n",
       "      <td>3008.000000</td>\n",
       "      <td>3008</td>\n",
       "      <td>3008.000000</td>\n",
       "    </tr>\n",
       "    <tr>\n",
       "      <th>unique</th>\n",
       "      <td>7</td>\n",
       "      <td>NaN</td>\n",
       "      <td>6</td>\n",
       "      <td>NaN</td>\n",
       "      <td>NaN</td>\n",
       "      <td>4</td>\n",
       "      <td>NaN</td>\n",
       "    </tr>\n",
       "    <tr>\n",
       "      <th>top</th>\n",
       "      <td>Volkswagen</td>\n",
       "      <td>NaN</td>\n",
       "      <td>sedan</td>\n",
       "      <td>NaN</td>\n",
       "      <td>NaN</td>\n",
       "      <td>Diesel</td>\n",
       "      <td>NaN</td>\n",
       "    </tr>\n",
       "    <tr>\n",
       "      <th>freq</th>\n",
       "      <td>708</td>\n",
       "      <td>NaN</td>\n",
       "      <td>1093</td>\n",
       "      <td>NaN</td>\n",
       "      <td>NaN</td>\n",
       "      <td>1368</td>\n",
       "      <td>NaN</td>\n",
       "    </tr>\n",
       "    <tr>\n",
       "      <th>mean</th>\n",
       "      <td>NaN</td>\n",
       "      <td>14419.570549</td>\n",
       "      <td>NaN</td>\n",
       "      <td>152.785572</td>\n",
       "      <td>2.345858</td>\n",
       "      <td>NaN</td>\n",
       "      <td>2007.531250</td>\n",
       "    </tr>\n",
       "    <tr>\n",
       "      <th>std</th>\n",
       "      <td>NaN</td>\n",
       "      <td>8956.380931</td>\n",
       "      <td>NaN</td>\n",
       "      <td>73.442386</td>\n",
       "      <td>0.877073</td>\n",
       "      <td>NaN</td>\n",
       "      <td>4.459964</td>\n",
       "    </tr>\n",
       "    <tr>\n",
       "      <th>min</th>\n",
       "      <td>NaN</td>\n",
       "      <td>800.000000</td>\n",
       "      <td>NaN</td>\n",
       "      <td>0.000000</td>\n",
       "      <td>0.600000</td>\n",
       "      <td>NaN</td>\n",
       "      <td>1997.000000</td>\n",
       "    </tr>\n",
       "    <tr>\n",
       "      <th>25%</th>\n",
       "      <td>NaN</td>\n",
       "      <td>8000.000000</td>\n",
       "      <td>NaN</td>\n",
       "      <td>101.000000</td>\n",
       "      <td>1.800000</td>\n",
       "      <td>NaN</td>\n",
       "      <td>2005.000000</td>\n",
       "    </tr>\n",
       "    <tr>\n",
       "      <th>50%</th>\n",
       "      <td>NaN</td>\n",
       "      <td>11809.475000</td>\n",
       "      <td>NaN</td>\n",
       "      <td>155.000000</td>\n",
       "      <td>2.000000</td>\n",
       "      <td>NaN</td>\n",
       "      <td>2008.000000</td>\n",
       "    </tr>\n",
       "    <tr>\n",
       "      <th>75%</th>\n",
       "      <td>NaN</td>\n",
       "      <td>18992.250000</td>\n",
       "      <td>NaN</td>\n",
       "      <td>206.000000</td>\n",
       "      <td>2.800000</td>\n",
       "      <td>NaN</td>\n",
       "      <td>2011.000000</td>\n",
       "    </tr>\n",
       "    <tr>\n",
       "      <th>max</th>\n",
       "      <td>NaN</td>\n",
       "      <td>40990.000000</td>\n",
       "      <td>NaN</td>\n",
       "      <td>299.000000</td>\n",
       "      <td>5.700000</td>\n",
       "      <td>NaN</td>\n",
       "      <td>2016.000000</td>\n",
       "    </tr>\n",
       "  </tbody>\n",
       "</table>\n",
       "</div>"
      ],
      "text/plain": [
       "             Brand         Price   Body      Mileage      EngineV Engine Type  \\\n",
       "count         3008   3008.000000   3008  3008.000000  3008.000000        3008   \n",
       "unique           7           NaN      6          NaN          NaN           4   \n",
       "top     Volkswagen           NaN  sedan          NaN          NaN      Diesel   \n",
       "freq           708           NaN   1093          NaN          NaN        1368   \n",
       "mean           NaN  14419.570549    NaN   152.785572     2.345858         NaN   \n",
       "std            NaN   8956.380931    NaN    73.442386     0.877073         NaN   \n",
       "min            NaN    800.000000    NaN     0.000000     0.600000         NaN   \n",
       "25%            NaN   8000.000000    NaN   101.000000     1.800000         NaN   \n",
       "50%            NaN  11809.475000    NaN   155.000000     2.000000         NaN   \n",
       "75%            NaN  18992.250000    NaN   206.000000     2.800000         NaN   \n",
       "max            NaN  40990.000000    NaN   299.000000     5.700000         NaN   \n",
       "\n",
       "               Year  \n",
       "count   3008.000000  \n",
       "unique          NaN  \n",
       "top             NaN  \n",
       "freq            NaN  \n",
       "mean    2007.531250  \n",
       "std        4.459964  \n",
       "min     1997.000000  \n",
       "25%     2005.000000  \n",
       "50%     2008.000000  \n",
       "75%     2011.000000  \n",
       "max     2016.000000  "
      ]
     },
     "execution_count": 21,
     "metadata": {},
     "output_type": "execute_result"
    }
   ],
   "source": [
    "df_6.describe(include='all')"
   ]
  },
  {
   "cell_type": "code",
   "execution_count": 22,
   "metadata": {},
   "outputs": [
    {
     "data": {
      "text/html": [
       "<div>\n",
       "<style scoped>\n",
       "    .dataframe tbody tr th:only-of-type {\n",
       "        vertical-align: middle;\n",
       "    }\n",
       "\n",
       "    .dataframe tbody tr th {\n",
       "        vertical-align: top;\n",
       "    }\n",
       "\n",
       "    .dataframe thead th {\n",
       "        text-align: right;\n",
       "    }\n",
       "</style>\n",
       "<table border=\"1\" class=\"dataframe\">\n",
       "  <thead>\n",
       "    <tr style=\"text-align: right;\">\n",
       "      <th></th>\n",
       "      <th>VIF</th>\n",
       "      <th>features</th>\n",
       "    </tr>\n",
       "  </thead>\n",
       "  <tbody>\n",
       "    <tr>\n",
       "      <th>0</th>\n",
       "      <td>5.437150</td>\n",
       "      <td>Mileage</td>\n",
       "    </tr>\n",
       "    <tr>\n",
       "      <th>1</th>\n",
       "      <td>8.350490</td>\n",
       "      <td>EngineV</td>\n",
       "    </tr>\n",
       "    <tr>\n",
       "      <th>2</th>\n",
       "      <td>10.909498</td>\n",
       "      <td>Year</td>\n",
       "    </tr>\n",
       "  </tbody>\n",
       "</table>\n",
       "</div>"
      ],
      "text/plain": [
       "         VIF features\n",
       "0   5.437150  Mileage\n",
       "1   8.350490  EngineV\n",
       "2  10.909498     Year"
      ]
     },
     "execution_count": 22,
     "metadata": {},
     "output_type": "execute_result"
    }
   ],
   "source": [
    "from statsmodels.stats.outliers_influence import variance_inflation_factor\n",
    "variables = df_6[['Mileage', 'EngineV', 'Year']]\n",
    "vif = pd.DataFrame()\n",
    "vif['VIF'] = [variance_inflation_factor(variables.values, i) for i in range(variables.shape[1])]\n",
    "vif['features'] = variables.columns\n",
    "vif"
   ]
  },
  {
   "cell_type": "markdown",
   "metadata": {},
   "source": [
    "#### As seen above, using the variance inflation factor method of statsmodels, there is a considerable multi-colinearity of the 'Year' data when compared to the rest of the numerical data.\n",
    "\n",
    "#### However, I have chosen NOT to remove the 'Year' Data due to it being a key underlying factor in terms of the value of a pre-owned vehicle in real world as well as in the training of a machine learning model."
   ]
  },
  {
   "cell_type": "code",
   "execution_count": 23,
   "metadata": {},
   "outputs": [
    {
     "data": {
      "text/html": [
       "<div>\n",
       "<style scoped>\n",
       "    .dataframe tbody tr th:only-of-type {\n",
       "        vertical-align: middle;\n",
       "    }\n",
       "\n",
       "    .dataframe tbody tr th {\n",
       "        vertical-align: top;\n",
       "    }\n",
       "\n",
       "    .dataframe thead th {\n",
       "        text-align: right;\n",
       "    }\n",
       "</style>\n",
       "<table border=\"1\" class=\"dataframe\">\n",
       "  <thead>\n",
       "    <tr style=\"text-align: right;\">\n",
       "      <th></th>\n",
       "      <th>Brand</th>\n",
       "      <th>Price</th>\n",
       "      <th>Body</th>\n",
       "      <th>Mileage</th>\n",
       "      <th>EngineV</th>\n",
       "      <th>Engine Type</th>\n",
       "      <th>Year</th>\n",
       "    </tr>\n",
       "  </thead>\n",
       "  <tbody>\n",
       "    <tr>\n",
       "      <th>3</th>\n",
       "      <td>Audi</td>\n",
       "      <td>23000.0</td>\n",
       "      <td>crossover</td>\n",
       "      <td>240</td>\n",
       "      <td>4.2</td>\n",
       "      <td>Petrol</td>\n",
       "      <td>2007</td>\n",
       "    </tr>\n",
       "    <tr>\n",
       "      <th>4</th>\n",
       "      <td>Toyota</td>\n",
       "      <td>18300.0</td>\n",
       "      <td>crossover</td>\n",
       "      <td>120</td>\n",
       "      <td>2.0</td>\n",
       "      <td>Petrol</td>\n",
       "      <td>2011</td>\n",
       "    </tr>\n",
       "    <tr>\n",
       "      <th>7</th>\n",
       "      <td>Audi</td>\n",
       "      <td>14200.0</td>\n",
       "      <td>vagon</td>\n",
       "      <td>200</td>\n",
       "      <td>2.7</td>\n",
       "      <td>Diesel</td>\n",
       "      <td>2006</td>\n",
       "    </tr>\n",
       "    <tr>\n",
       "      <th>8</th>\n",
       "      <td>Renault</td>\n",
       "      <td>10799.0</td>\n",
       "      <td>vagon</td>\n",
       "      <td>193</td>\n",
       "      <td>1.5</td>\n",
       "      <td>Diesel</td>\n",
       "      <td>2012</td>\n",
       "    </tr>\n",
       "    <tr>\n",
       "      <th>9</th>\n",
       "      <td>Volkswagen</td>\n",
       "      <td>1400.0</td>\n",
       "      <td>other</td>\n",
       "      <td>212</td>\n",
       "      <td>1.8</td>\n",
       "      <td>Gas</td>\n",
       "      <td>1999</td>\n",
       "    </tr>\n",
       "  </tbody>\n",
       "</table>\n",
       "</div>"
      ],
      "text/plain": [
       "        Brand    Price       Body  Mileage  EngineV Engine Type  Year\n",
       "3        Audi  23000.0  crossover      240      4.2      Petrol  2007\n",
       "4      Toyota  18300.0  crossover      120      2.0      Petrol  2011\n",
       "7        Audi  14200.0      vagon      200      2.7      Diesel  2006\n",
       "8     Renault  10799.0      vagon      193      1.5      Diesel  2012\n",
       "9  Volkswagen   1400.0      other      212      1.8         Gas  1999"
      ]
     },
     "execution_count": 23,
     "metadata": {},
     "output_type": "execute_result"
    }
   ],
   "source": [
    "df_7 = df_6#.drop(['Year'], axis=1)\n",
    "df_7.head()"
   ]
  },
  {
   "cell_type": "markdown",
   "metadata": {},
   "source": [
    "#### Above concludes the pre-processing of numerical feature.\n",
    "\n",
    "#### Below, we will assign dummie variables to all categorical features."
   ]
  },
  {
   "cell_type": "code",
   "execution_count": 24,
   "metadata": {},
   "outputs": [
    {
     "data": {
      "text/html": [
       "<div>\n",
       "<style scoped>\n",
       "    .dataframe tbody tr th:only-of-type {\n",
       "        vertical-align: middle;\n",
       "    }\n",
       "\n",
       "    .dataframe tbody tr th {\n",
       "        vertical-align: top;\n",
       "    }\n",
       "\n",
       "    .dataframe thead th {\n",
       "        text-align: right;\n",
       "    }\n",
       "</style>\n",
       "<table border=\"1\" class=\"dataframe\">\n",
       "  <thead>\n",
       "    <tr style=\"text-align: right;\">\n",
       "      <th></th>\n",
       "      <th>Price</th>\n",
       "      <th>Mileage</th>\n",
       "      <th>EngineV</th>\n",
       "      <th>Year</th>\n",
       "      <th>Brand_BMW</th>\n",
       "      <th>Brand_Mercedes-Benz</th>\n",
       "      <th>Brand_Mitsubishi</th>\n",
       "      <th>Brand_Renault</th>\n",
       "      <th>Brand_Toyota</th>\n",
       "      <th>Brand_Volkswagen</th>\n",
       "      <th>Body_hatch</th>\n",
       "      <th>Body_other</th>\n",
       "      <th>Body_sedan</th>\n",
       "      <th>Body_vagon</th>\n",
       "      <th>Body_van</th>\n",
       "      <th>Engine Type_Gas</th>\n",
       "      <th>Engine Type_Other</th>\n",
       "      <th>Engine Type_Petrol</th>\n",
       "    </tr>\n",
       "  </thead>\n",
       "  <tbody>\n",
       "    <tr>\n",
       "      <th>3</th>\n",
       "      <td>23000.0</td>\n",
       "      <td>240</td>\n",
       "      <td>4.2</td>\n",
       "      <td>2007</td>\n",
       "      <td>0</td>\n",
       "      <td>0</td>\n",
       "      <td>0</td>\n",
       "      <td>0</td>\n",
       "      <td>0</td>\n",
       "      <td>0</td>\n",
       "      <td>0</td>\n",
       "      <td>0</td>\n",
       "      <td>0</td>\n",
       "      <td>0</td>\n",
       "      <td>0</td>\n",
       "      <td>0</td>\n",
       "      <td>0</td>\n",
       "      <td>1</td>\n",
       "    </tr>\n",
       "    <tr>\n",
       "      <th>4</th>\n",
       "      <td>18300.0</td>\n",
       "      <td>120</td>\n",
       "      <td>2.0</td>\n",
       "      <td>2011</td>\n",
       "      <td>0</td>\n",
       "      <td>0</td>\n",
       "      <td>0</td>\n",
       "      <td>0</td>\n",
       "      <td>1</td>\n",
       "      <td>0</td>\n",
       "      <td>0</td>\n",
       "      <td>0</td>\n",
       "      <td>0</td>\n",
       "      <td>0</td>\n",
       "      <td>0</td>\n",
       "      <td>0</td>\n",
       "      <td>0</td>\n",
       "      <td>1</td>\n",
       "    </tr>\n",
       "    <tr>\n",
       "      <th>7</th>\n",
       "      <td>14200.0</td>\n",
       "      <td>200</td>\n",
       "      <td>2.7</td>\n",
       "      <td>2006</td>\n",
       "      <td>0</td>\n",
       "      <td>0</td>\n",
       "      <td>0</td>\n",
       "      <td>0</td>\n",
       "      <td>0</td>\n",
       "      <td>0</td>\n",
       "      <td>0</td>\n",
       "      <td>0</td>\n",
       "      <td>0</td>\n",
       "      <td>1</td>\n",
       "      <td>0</td>\n",
       "      <td>0</td>\n",
       "      <td>0</td>\n",
       "      <td>0</td>\n",
       "    </tr>\n",
       "    <tr>\n",
       "      <th>8</th>\n",
       "      <td>10799.0</td>\n",
       "      <td>193</td>\n",
       "      <td>1.5</td>\n",
       "      <td>2012</td>\n",
       "      <td>0</td>\n",
       "      <td>0</td>\n",
       "      <td>0</td>\n",
       "      <td>1</td>\n",
       "      <td>0</td>\n",
       "      <td>0</td>\n",
       "      <td>0</td>\n",
       "      <td>0</td>\n",
       "      <td>0</td>\n",
       "      <td>1</td>\n",
       "      <td>0</td>\n",
       "      <td>0</td>\n",
       "      <td>0</td>\n",
       "      <td>0</td>\n",
       "    </tr>\n",
       "    <tr>\n",
       "      <th>9</th>\n",
       "      <td>1400.0</td>\n",
       "      <td>212</td>\n",
       "      <td>1.8</td>\n",
       "      <td>1999</td>\n",
       "      <td>0</td>\n",
       "      <td>0</td>\n",
       "      <td>0</td>\n",
       "      <td>0</td>\n",
       "      <td>0</td>\n",
       "      <td>1</td>\n",
       "      <td>0</td>\n",
       "      <td>1</td>\n",
       "      <td>0</td>\n",
       "      <td>0</td>\n",
       "      <td>0</td>\n",
       "      <td>1</td>\n",
       "      <td>0</td>\n",
       "      <td>0</td>\n",
       "    </tr>\n",
       "  </tbody>\n",
       "</table>\n",
       "</div>"
      ],
      "text/plain": [
       "     Price  Mileage  EngineV  Year  Brand_BMW  Brand_Mercedes-Benz  \\\n",
       "3  23000.0      240      4.2  2007          0                    0   \n",
       "4  18300.0      120      2.0  2011          0                    0   \n",
       "7  14200.0      200      2.7  2006          0                    0   \n",
       "8  10799.0      193      1.5  2012          0                    0   \n",
       "9   1400.0      212      1.8  1999          0                    0   \n",
       "\n",
       "   Brand_Mitsubishi  Brand_Renault  Brand_Toyota  Brand_Volkswagen  \\\n",
       "3                 0              0             0                 0   \n",
       "4                 0              0             1                 0   \n",
       "7                 0              0             0                 0   \n",
       "8                 0              1             0                 0   \n",
       "9                 0              0             0                 1   \n",
       "\n",
       "   Body_hatch  Body_other  Body_sedan  Body_vagon  Body_van  Engine Type_Gas  \\\n",
       "3           0           0           0           0         0                0   \n",
       "4           0           0           0           0         0                0   \n",
       "7           0           0           0           1         0                0   \n",
       "8           0           0           0           1         0                0   \n",
       "9           0           1           0           0         0                1   \n",
       "\n",
       "   Engine Type_Other  Engine Type_Petrol  \n",
       "3                  0                   1  \n",
       "4                  0                   1  \n",
       "7                  0                   0  \n",
       "8                  0                   0  \n",
       "9                  0                   0  "
      ]
     },
     "execution_count": 24,
     "metadata": {},
     "output_type": "execute_result"
    }
   ],
   "source": [
    "df_with_dummies = pd.get_dummies(df_7, drop_first=True)\n",
    "df_with_dummies.head()"
   ]
  },
  {
   "cell_type": "markdown",
   "metadata": {},
   "source": [
    "#### We briefly inspect the relationship of the numerical data ie. Year, Price and Mileage."
   ]
  },
  {
   "cell_type": "code",
   "execution_count": 25,
   "metadata": {},
   "outputs": [
    {
     "data": {
      "text/plain": [
       "<seaborn.axisgrid.PairGrid at 0x11d6c158d30>"
      ]
     },
     "execution_count": 25,
     "metadata": {},
     "output_type": "execute_result"
    },
    {
     "data": {
      "image/png": "[encoded data removed]",
      "text/plain": [
       "<Figure size 540x540 with 12 Axes>"
      ]
     },
     "metadata": {},
     "output_type": "display_data"
    }
   ],
   "source": [
    "sns.pairplot(df_6[[\"Mileage\", \"Price\", \"Year\"]], diag_kind=\"kde\")"
   ]
  },
  {
   "cell_type": "markdown",
   "metadata": {},
   "source": [
    "#### Upon inspection of the relationships above, I have deduced that there is no linear correlation, so we will not use a linear regression model, the graphs representation is close to a polynomial distribution.\n",
    "\n",
    "#### As a result, I have chosen to build a Deep Neural Network Model with the use of the Tensorflow Framework."
   ]
  },
  {
   "cell_type": "markdown",
   "metadata": {},
   "source": [
    "## Assigning Targets and features"
   ]
  },
  {
   "cell_type": "code",
   "execution_count": 26,
   "metadata": {},
   "outputs": [
    {
     "data": {
      "text/html": [
       "<div>\n",
       "<style scoped>\n",
       "    .dataframe tbody tr th:only-of-type {\n",
       "        vertical-align: middle;\n",
       "    }\n",
       "\n",
       "    .dataframe tbody tr th {\n",
       "        vertical-align: top;\n",
       "    }\n",
       "\n",
       "    .dataframe thead th {\n",
       "        text-align: right;\n",
       "    }\n",
       "</style>\n",
       "<table border=\"1\" class=\"dataframe\">\n",
       "  <thead>\n",
       "    <tr style=\"text-align: right;\">\n",
       "      <th></th>\n",
       "      <th>Price</th>\n",
       "      <th>Mileage</th>\n",
       "      <th>EngineV</th>\n",
       "      <th>Year</th>\n",
       "      <th>Brand_BMW</th>\n",
       "      <th>Brand_Mercedes-Benz</th>\n",
       "      <th>Brand_Mitsubishi</th>\n",
       "      <th>Brand_Renault</th>\n",
       "      <th>Brand_Toyota</th>\n",
       "      <th>Brand_Volkswagen</th>\n",
       "      <th>Body_hatch</th>\n",
       "      <th>Body_other</th>\n",
       "      <th>Body_sedan</th>\n",
       "      <th>Body_vagon</th>\n",
       "      <th>Body_van</th>\n",
       "      <th>Engine Type_Gas</th>\n",
       "      <th>Engine Type_Other</th>\n",
       "      <th>Engine Type_Petrol</th>\n",
       "    </tr>\n",
       "  </thead>\n",
       "  <tbody>\n",
       "    <tr>\n",
       "      <th>3</th>\n",
       "      <td>23000.0</td>\n",
       "      <td>240</td>\n",
       "      <td>4.2</td>\n",
       "      <td>2007</td>\n",
       "      <td>0</td>\n",
       "      <td>0</td>\n",
       "      <td>0</td>\n",
       "      <td>0</td>\n",
       "      <td>0</td>\n",
       "      <td>0</td>\n",
       "      <td>0</td>\n",
       "      <td>0</td>\n",
       "      <td>0</td>\n",
       "      <td>0</td>\n",
       "      <td>0</td>\n",
       "      <td>0</td>\n",
       "      <td>0</td>\n",
       "      <td>1</td>\n",
       "    </tr>\n",
       "    <tr>\n",
       "      <th>4</th>\n",
       "      <td>18300.0</td>\n",
       "      <td>120</td>\n",
       "      <td>2.0</td>\n",
       "      <td>2011</td>\n",
       "      <td>0</td>\n",
       "      <td>0</td>\n",
       "      <td>0</td>\n",
       "      <td>0</td>\n",
       "      <td>1</td>\n",
       "      <td>0</td>\n",
       "      <td>0</td>\n",
       "      <td>0</td>\n",
       "      <td>0</td>\n",
       "      <td>0</td>\n",
       "      <td>0</td>\n",
       "      <td>0</td>\n",
       "      <td>0</td>\n",
       "      <td>1</td>\n",
       "    </tr>\n",
       "    <tr>\n",
       "      <th>7</th>\n",
       "      <td>14200.0</td>\n",
       "      <td>200</td>\n",
       "      <td>2.7</td>\n",
       "      <td>2006</td>\n",
       "      <td>0</td>\n",
       "      <td>0</td>\n",
       "      <td>0</td>\n",
       "      <td>0</td>\n",
       "      <td>0</td>\n",
       "      <td>0</td>\n",
       "      <td>0</td>\n",
       "      <td>0</td>\n",
       "      <td>0</td>\n",
       "      <td>1</td>\n",
       "      <td>0</td>\n",
       "      <td>0</td>\n",
       "      <td>0</td>\n",
       "      <td>0</td>\n",
       "    </tr>\n",
       "    <tr>\n",
       "      <th>8</th>\n",
       "      <td>10799.0</td>\n",
       "      <td>193</td>\n",
       "      <td>1.5</td>\n",
       "      <td>2012</td>\n",
       "      <td>0</td>\n",
       "      <td>0</td>\n",
       "      <td>0</td>\n",
       "      <td>1</td>\n",
       "      <td>0</td>\n",
       "      <td>0</td>\n",
       "      <td>0</td>\n",
       "      <td>0</td>\n",
       "      <td>0</td>\n",
       "      <td>1</td>\n",
       "      <td>0</td>\n",
       "      <td>0</td>\n",
       "      <td>0</td>\n",
       "      <td>0</td>\n",
       "    </tr>\n",
       "    <tr>\n",
       "      <th>9</th>\n",
       "      <td>1400.0</td>\n",
       "      <td>212</td>\n",
       "      <td>1.8</td>\n",
       "      <td>1999</td>\n",
       "      <td>0</td>\n",
       "      <td>0</td>\n",
       "      <td>0</td>\n",
       "      <td>0</td>\n",
       "      <td>0</td>\n",
       "      <td>1</td>\n",
       "      <td>0</td>\n",
       "      <td>1</td>\n",
       "      <td>0</td>\n",
       "      <td>0</td>\n",
       "      <td>0</td>\n",
       "      <td>1</td>\n",
       "      <td>0</td>\n",
       "      <td>0</td>\n",
       "    </tr>\n",
       "  </tbody>\n",
       "</table>\n",
       "</div>"
      ],
      "text/plain": [
       "     Price  Mileage  EngineV  Year  Brand_BMW  Brand_Mercedes-Benz  \\\n",
       "3  23000.0      240      4.2  2007          0                    0   \n",
       "4  18300.0      120      2.0  2011          0                    0   \n",
       "7  14200.0      200      2.7  2006          0                    0   \n",
       "8  10799.0      193      1.5  2012          0                    0   \n",
       "9   1400.0      212      1.8  1999          0                    0   \n",
       "\n",
       "   Brand_Mitsubishi  Brand_Renault  Brand_Toyota  Brand_Volkswagen  \\\n",
       "3                 0              0             0                 0   \n",
       "4                 0              0             1                 0   \n",
       "7                 0              0             0                 0   \n",
       "8                 0              1             0                 0   \n",
       "9                 0              0             0                 1   \n",
       "\n",
       "   Body_hatch  Body_other  Body_sedan  Body_vagon  Body_van  Engine Type_Gas  \\\n",
       "3           0           0           0           0         0                0   \n",
       "4           0           0           0           0         0                0   \n",
       "7           0           0           0           1         0                0   \n",
       "8           0           0           0           1         0                0   \n",
       "9           0           1           0           0         0                1   \n",
       "\n",
       "   Engine Type_Other  Engine Type_Petrol  \n",
       "3                  0                   1  \n",
       "4                  0                   1  \n",
       "7                  0                   0  \n",
       "8                  0                   0  \n",
       "9                  0                   0  "
      ]
     },
     "execution_count": 26,
     "metadata": {},
     "output_type": "execute_result"
    }
   ],
   "source": [
    "df_with_dummies.head()"
   ]
  },
  {
   "cell_type": "markdown",
   "metadata": {},
   "source": [
    "### Assigning the Target ('Price') and the remaining data as features."
   ]
  },
  {
   "cell_type": "code",
   "execution_count": 27,
   "metadata": {},
   "outputs": [],
   "source": [
    "df_targets = df_with_dummies['Price']\n",
    "df_features = df_with_dummies.drop(['Price'], axis=1)"
   ]
  },
  {
   "cell_type": "code",
   "execution_count": 28,
   "metadata": {},
   "outputs": [
    {
     "data": {
      "text/plain": [
       "((3008,), (3008, 17))"
      ]
     },
     "execution_count": 28,
     "metadata": {},
     "output_type": "execute_result"
    }
   ],
   "source": [
    "df_targets.shape, df_features.shape"
   ]
  },
  {
   "cell_type": "markdown",
   "metadata": {},
   "source": [
    "## Scaling the data"
   ]
  },
  {
   "cell_type": "markdown",
   "metadata": {},
   "source": [
    "#### I will scale the numerical data, which excludes all assigned dummie variables. The dummie variables do not impact the model in terms of its value, rather its assignment, as its relationship values are 1 and 0 only. Logically, they are categorised."
   ]
  },
  {
   "cell_type": "markdown",
   "metadata": {},
   "source": [
    "### Split the data into seperate dataframes"
   ]
  },
  {
   "cell_type": "code",
   "execution_count": 29,
   "metadata": {},
   "outputs": [],
   "source": [
    "data_to_scale = df_features.loc[:,'Mileage':'Year']\n",
    "data_not_to_scale = df_features.loc[:,'Brand_BMW':'Engine Type_Petrol']"
   ]
  },
  {
   "cell_type": "markdown",
   "metadata": {},
   "source": [
    "### Scale the data thats needed to be scaled (SKlearn automatically converts the dataframe to array when scaling"
   ]
  },
  {
   "cell_type": "code",
   "execution_count": 30,
   "metadata": {},
   "outputs": [],
   "source": [
    "from sklearn.preprocessing import StandardScaler\n",
    "absenteeism_scaler = StandardScaler()\n",
    "absenteeism_scaler.fit(data_to_scale)\n",
    "scaled_data = absenteeism_scaler.transform(data_to_scale)"
   ]
  },
  {
   "cell_type": "markdown",
   "metadata": {},
   "source": [
    "### Convert the unscaled data to numpy array as was automatically done with the scaler on the 'data_to_scale'"
   ]
  },
  {
   "cell_type": "code",
   "execution_count": 31,
   "metadata": {},
   "outputs": [
    {
     "data": {
      "text/plain": [
       "array([[0, 0, 0, ..., 0, 0, 1],\n",
       "       [0, 0, 0, ..., 0, 0, 1],\n",
       "       [0, 0, 0, ..., 0, 0, 0],\n",
       "       ...,\n",
       "       [0, 0, 0, ..., 0, 0, 1],\n",
       "       [1, 0, 0, ..., 0, 0, 1],\n",
       "       [0, 0, 0, ..., 0, 0, 0]], dtype=uint8)"
      ]
     },
     "execution_count": 31,
     "metadata": {},
     "output_type": "execute_result"
    }
   ],
   "source": [
    "data_not_to_scale.to_numpy()"
   ]
  },
  {
   "cell_type": "markdown",
   "metadata": {},
   "source": [
    "### Re-assemble the arrays"
   ]
  },
  {
   "cell_type": "code",
   "execution_count": 32,
   "metadata": {},
   "outputs": [],
   "source": [
    "df_features_scaled = np.concatenate(( scaled_data, data_not_to_scale), axis=1)"
   ]
  },
  {
   "cell_type": "code",
   "execution_count": 33,
   "metadata": {},
   "outputs": [
    {
     "data": {
      "text/plain": [
       "((3008, 17), (3008,))"
      ]
     },
     "execution_count": 33,
     "metadata": {},
     "output_type": "execute_result"
    }
   ],
   "source": [
    "df_features_scaled.shape, df_targets.shape"
   ]
  },
  {
   "cell_type": "markdown",
   "metadata": {},
   "source": [
    "### The followinng process is used in oder to allocate the training, validation and test data to individual .npz files in order to feed into the Tensorflow model.\n",
    "\n",
    "Training Data = 80% of all data\n",
    "\n",
    "Validation Data = 10% of all data\n",
    "\n",
    "Test Data = Remaining data"
   ]
  },
  {
   "cell_type": "code",
   "execution_count": 34,
   "metadata": {},
   "outputs": [],
   "source": [
    "samples_count = df_features_scaled.shape[0]\n",
    "\n",
    "train_samples_count = int(0.8 * samples_count)\n",
    "validation_samples_count = int(0.1 * samples_count)\n",
    "test_samples_count = samples_count - train_samples_count - validation_samples_count\n",
    "\n",
    "train_inputs = df_features_scaled[:train_samples_count]\n",
    "train_targets = df_targets[:train_samples_count]\n",
    "\n",
    "validation_inputs = df_features_scaled[train_samples_count:train_samples_count + validation_samples_count]\n",
    "validation_targets = df_targets[train_samples_count:train_samples_count + validation_samples_count]\n",
    "\n",
    "test_inputs = df_features_scaled[train_samples_count + validation_samples_count:]\n",
    "test_targets = df_targets[train_samples_count + validation_samples_count:]"
   ]
  },
  {
   "cell_type": "markdown",
   "metadata": {},
   "source": [
    "### Saving to .npz files"
   ]
  },
  {
   "cell_type": "code",
   "execution_count": 35,
   "metadata": {},
   "outputs": [],
   "source": [
    "np.savez('Cars_data_train', inputs = train_inputs, targets = train_targets)\n",
    "np.savez('Cars_data_validation', inputs = validation_inputs, targets = validation_targets)\n",
    "np.savez('Cars_data_test', inputs = test_inputs, targets = test_targets)"
   ]
  },
  {
   "cell_type": "markdown",
   "metadata": {},
   "source": [
    "### Re-loading files to new variables"
   ]
  },
  {
   "cell_type": "code",
   "execution_count": 36,
   "metadata": {},
   "outputs": [],
   "source": [
    "npz_train = np.load('Cars_data_train.npz')\n",
    "\n",
    "train_inputs = npz_train['inputs'].astype(np.float)\n",
    "train_targets = npz_train['targets'].astype(np.float)\n",
    "\n",
    "npz_test = np.load('Cars_data_test.npz')\n",
    "\n",
    "test_inputs = npz_test['inputs'].astype(np.float)\n",
    "test_targets = npz_test['targets'].astype(np.float)\n",
    "\n",
    "npz_validation = np.load('Cars_data_validation.npz')\n",
    "\n",
    "validation_inputs = npz_validation['inputs'].astype(np.float)\n",
    "validation_targets = npz_validation['targets'].astype(np.float)"
   ]
  },
  {
   "cell_type": "code",
   "execution_count": 37,
   "metadata": {},
   "outputs": [
    {
     "data": {
      "text/plain": [
       "17"
      ]
     },
     "execution_count": 37,
     "metadata": {},
     "output_type": "execute_result"
    }
   ],
   "source": [
    "train_inputs.shape[1]"
   ]
  },
  {
   "cell_type": "markdown",
   "metadata": {},
   "source": [
    "#### The code below was used to cycle through a few common activation and optimization functions. As well as varying Hidden layer widths and batch sizes. This was done in order to find the best fit. Note that no overfitting was possible due to the data being reloaded and re-fitted at each cycle."
   ]
  },
  {
   "cell_type": "code",
   "execution_count": 38,
   "metadata": {},
   "outputs": [],
   "source": [
    "import openpyxl\n",
    "Results_10_layers = pd.DataFrame()\n",
    "hidden_layer_size = 20\n",
    "activation_functions = ['relu', 'selu']\n",
    "optimizor_functions = ['adam', 'adamax']\n",
    "input_size = 17\n",
    "output_size = 1\n",
    "batch_value = 5\n",
    "\n",
    "for n in range(5):\n",
    "    hidden_layer_size += 10\n",
    "    for act in activation_functions:\n",
    "        act_func = act\n",
    "        for opt in optimizor_functions:\n",
    "            opt_func = opt\n",
    "            for batch in range(5):\n",
    "                batch_value = batch_value + 5\n",
    "            \n",
    "                model = tf.keras.Sequential([ \n",
    "                                            tf.keras.layers.Dense(hidden_layer_size, activation = act_func),\n",
    "                                            tf.keras.layers.Dense(hidden_layer_size, activation = act_func),\n",
    "                                            tf.keras.layers.Dense(hidden_layer_size, activation = act_func),\n",
    "                                            tf.keras.layers.Dense(hidden_layer_size, activation = act_func),\n",
    "                                            tf.keras.layers.Dense(hidden_layer_size, activation = act_func),\n",
    "                                            tf.keras.layers.Dense(hidden_layer_size, activation = act_func),\n",
    "                                            tf.keras.layers.Dense(hidden_layer_size, activation = act_func),\n",
    "                                            tf.keras.layers.Dense(hidden_layer_size, activation = act_func),\n",
    "                                            tf.keras.layers.Dense(hidden_layer_size, activation = act_func),\n",
    "                                            tf.keras.layers.Dense(hidden_layer_size, activation = act_func),\n",
    "                                            tf.keras.layers.Dense(output_size)\n",
    "                                            ])\n",
    "\n",
    "                optimizer = opt_func\n",
    "\n",
    "                model.compile(optimizer=optimizer, loss= 'MSE', metrics=['MeanAbsolutePercentageError'])\n",
    "\n",
    "                MAX_EPOCHS = 20\n",
    "                BATCH_SIZE = batch_value\n",
    "\n",
    "                early_stopping = tf.keras.callbacks.EarlyStopping(patience=3)\n",
    "\n",
    "                history = model.fit(train_inputs, train_targets, \n",
    "                          batch_size = BATCH_SIZE, \n",
    "                          epochs = MAX_EPOCHS, \n",
    "                          callbacks = [early_stopping],\n",
    "                          validation_data = (validation_inputs, validation_targets), \n",
    "                          verbose = 1)\n",
    "\n",
    "                hist = pd.DataFrame(history.history['mean_absolute_percentage_error'])\n",
    "                each_result = {'Optimization Function': opt_func,\n",
    "                               'Activation Function': act_func,\n",
    "                               'Batch_Size': BATCH_SIZE,\n",
    "                               'Hidden_Layer_size': hidden_layer_size,\n",
    "                               'Test Accuracy Error (off mean percentage)': hist.iloc[-1]}\n",
    "                Results_10_layers = Results_10_layers.append(each_result, ignore_index=True)\n",
    "                Results_10_layers.to_excel('10_layer_output.xlsx')\n",
    "\n"
   ]
  },
  {
   "cell_type": "code",
   "execution_count": 46,
   "metadata": {},
   "outputs": [],
   "source": [
    "Results = '10_layer_output.xlsx'\n",
    "Results = pd.read_excel(Results)"
   ]
  },
  {
   "cell_type": "markdown",
   "metadata": {},
   "source": [
    "#### As per the results file displayed below. The most accurate MAPE attained through testing was done using the 'relu' activation function, the 'adam' optimization function, with hidden layers with 40 neurons wide. We will use this in the model blueprint."
   ]
  },
  {
   "cell_type": "code",
   "execution_count": 40,
   "metadata": {},
   "outputs": [
    {
     "data": {
      "text/html": [
       "<div>\n",
       "<style scoped>\n",
       "    .dataframe tbody tr th:only-of-type {\n",
       "        vertical-align: middle;\n",
       "    }\n",
       "\n",
       "    .dataframe tbody tr th {\n",
       "        vertical-align: top;\n",
       "    }\n",
       "\n",
       "    .dataframe thead th {\n",
       "        text-align: right;\n",
       "    }\n",
       "</style>\n",
       "<table border=\"1\" class=\"dataframe\">\n",
       "  <thead>\n",
       "    <tr style=\"text-align: right;\">\n",
       "      <th></th>\n",
       "      <th>Unnamed: 0</th>\n",
       "      <th>Activation Function</th>\n",
       "      <th>Batch_Size</th>\n",
       "      <th>Hidden_Layer_size</th>\n",
       "      <th>Optimization Function</th>\n",
       "      <th>Test Accuracy Error (off mean percentage)</th>\n",
       "    </tr>\n",
       "  </thead>\n",
       "  <tbody>\n",
       "    <tr>\n",
       "      <th>5</th>\n",
       "      <td>5</td>\n",
       "      <td>relu</td>\n",
       "      <td>35</td>\n",
       "      <td>40</td>\n",
       "      <td>adam</td>\n",
       "      <td>0    23.102583\\nName: 19, dtype: float64</td>\n",
       "    </tr>\n",
       "    <tr>\n",
       "      <th>1</th>\n",
       "      <td>1</td>\n",
       "      <td>relu</td>\n",
       "      <td>15</td>\n",
       "      <td>30</td>\n",
       "      <td>adam</td>\n",
       "      <td>0    23.543457\\nName: 16, dtype: float64</td>\n",
       "    </tr>\n",
       "    <tr>\n",
       "      <th>2</th>\n",
       "      <td>2</td>\n",
       "      <td>relu</td>\n",
       "      <td>20</td>\n",
       "      <td>30</td>\n",
       "      <td>adam</td>\n",
       "      <td>0    23.607729\\nName: 18, dtype: float64</td>\n",
       "    </tr>\n",
       "    <tr>\n",
       "      <th>0</th>\n",
       "      <td>0</td>\n",
       "      <td>relu</td>\n",
       "      <td>10</td>\n",
       "      <td>30</td>\n",
       "      <td>adam</td>\n",
       "      <td>0    23.701672\\nName: 13, dtype: float64</td>\n",
       "    </tr>\n",
       "    <tr>\n",
       "      <th>3</th>\n",
       "      <td>3</td>\n",
       "      <td>relu</td>\n",
       "      <td>25</td>\n",
       "      <td>30</td>\n",
       "      <td>adam</td>\n",
       "      <td>0    23.905539\\nName: 19, dtype: float64</td>\n",
       "    </tr>\n",
       "  </tbody>\n",
       "</table>\n",
       "</div>"
      ],
      "text/plain": [
       "   Unnamed: 0 Activation Function  Batch_Size  Hidden_Layer_size  \\\n",
       "5           5                relu          35                 40   \n",
       "1           1                relu          15                 30   \n",
       "2           2                relu          20                 30   \n",
       "0           0                relu          10                 30   \n",
       "3           3                relu          25                 30   \n",
       "\n",
       "  Optimization Function Test Accuracy Error (off mean percentage)  \n",
       "5                  adam  0    23.102583\\nName: 19, dtype: float64  \n",
       "1                  adam  0    23.543457\\nName: 16, dtype: float64  \n",
       "2                  adam  0    23.607729\\nName: 18, dtype: float64  \n",
       "0                  adam  0    23.701672\\nName: 13, dtype: float64  \n",
       "3                  adam  0    23.905539\\nName: 19, dtype: float64  "
      ]
     },
     "execution_count": 40,
     "metadata": {},
     "output_type": "execute_result"
    }
   ],
   "source": [
    "Results.sort_values(by = ['Test Accuracy Error (off mean percentage)']).head()"
   ]
  },
  {
   "cell_type": "markdown",
   "metadata": {},
   "source": [
    "### Below is the model blueprint:\n",
    "\n",
    "\n",
    "Hidden Layers = 10\n",
    "\n",
    "Hidden layer width = 40 neurons\n",
    "\n",
    "We will use the 'adam' optomizer, as it was specifically built for deep neural networks and is known to show huge performance gains in terms of speed and training.\n",
    "\n",
    "As a performance indicator, I have chosen to use the 'MeanAbsolutePercentageError' metric, due to the fact that the more commonly used 'validation accuracy' metric is unable to ascertain the proximity of a target, rather an accurate hit on the prediction. The 'validation accuracy' would work well in a classification / logistic setting.\n",
    "\n",
    "### We also set the hyper-parameters and fitting of the model.\n",
    "\n",
    "We include the early stopping method with an allowance of 5 iterations for the loss to increase before the training is interrupted, thereby preventing the model from overfitting. With a maximum of 20 Epochs. The increases in loss commonly occur due to variances in the data and not neccessarily due to overfitting at every iteration, hence the allowance on the early stopping function."
   ]
  },
  {
   "cell_type": "code",
   "execution_count": 42,
   "metadata": {},
   "outputs": [
    {
     "name": "stdout",
     "output_type": "stream",
     "text": [
      "Epoch 1/20\n",
      "81/81 [==============================] - 0s 5ms/step - loss: 241774288.0000 - mean_absolute_percentage_error: 91.4616 - val_loss: 48210576.0000 - val_mean_absolute_percentage_error: 60.6641\n",
      "Epoch 2/20\n",
      "81/81 [==============================] - 0s 2ms/step - loss: 43431660.0000 - mean_absolute_percentage_error: 43.7170 - val_loss: 31509278.0000 - val_mean_absolute_percentage_error: 40.1807\n",
      "Epoch 3/20\n",
      "81/81 [==============================] - 0s 2ms/step - loss: 31164026.0000 - mean_absolute_percentage_error: 36.2097 - val_loss: 26816376.0000 - val_mean_absolute_percentage_error: 38.3897\n",
      "Epoch 4/20\n",
      "81/81 [==============================] - 0s 2ms/step - loss: 26913378.0000 - mean_absolute_percentage_error: 33.5312 - val_loss: 25966430.0000 - val_mean_absolute_percentage_error: 39.9262\n",
      "Epoch 5/20\n",
      "81/81 [==============================] - 0s 2ms/step - loss: 24007552.0000 - mean_absolute_percentage_error: 31.7252 - val_loss: 22677776.0000 - val_mean_absolute_percentage_error: 36.8489\n",
      "Epoch 6/20\n",
      "81/81 [==============================] - 0s 2ms/step - loss: 21836376.0000 - mean_absolute_percentage_error: 30.5622 - val_loss: 23516204.0000 - val_mean_absolute_percentage_error: 38.7673\n",
      "Epoch 7/20\n",
      "81/81 [==============================] - 0s 2ms/step - loss: 19721168.0000 - mean_absolute_percentage_error: 29.3811 - val_loss: 19531430.0000 - val_mean_absolute_percentage_error: 36.0574\n",
      "Epoch 8/20\n",
      "81/81 [==============================] - 0s 2ms/step - loss: 17891368.0000 - mean_absolute_percentage_error: 28.5723 - val_loss: 18515880.0000 - val_mean_absolute_percentage_error: 34.4494\n",
      "Epoch 9/20\n",
      "81/81 [==============================] - 0s 2ms/step - loss: 16469117.0000 - mean_absolute_percentage_error: 27.3118 - val_loss: 16923200.0000 - val_mean_absolute_percentage_error: 33.8812\n",
      "Epoch 10/20\n",
      "81/81 [==============================] - 0s 3ms/step - loss: 15425425.0000 - mean_absolute_percentage_error: 26.5888 - val_loss: 17285424.0000 - val_mean_absolute_percentage_error: 33.1974\n",
      "Epoch 11/20\n",
      "81/81 [==============================] - 0s 4ms/step - loss: 14640810.0000 - mean_absolute_percentage_error: 25.5479 - val_loss: 16488984.0000 - val_mean_absolute_percentage_error: 33.7391\n",
      "Epoch 12/20\n",
      "81/81 [==============================] - 0s 4ms/step - loss: 14041978.0000 - mean_absolute_percentage_error: 25.1065 - val_loss: 16761779.0000 - val_mean_absolute_percentage_error: 33.8327\n",
      "Epoch 13/20\n",
      "81/81 [==============================] - 0s 2ms/step - loss: 13577328.0000 - mean_absolute_percentage_error: 24.6559 - val_loss: 15264386.0000 - val_mean_absolute_percentage_error: 31.6796\n",
      "Epoch 14/20\n",
      "81/81 [==============================] - 0s 2ms/step - loss: 13355380.0000 - mean_absolute_percentage_error: 24.4922 - val_loss: 15456474.0000 - val_mean_absolute_percentage_error: 30.6207\n",
      "Epoch 15/20\n",
      "81/81 [==============================] - 0s 2ms/step - loss: 13093136.0000 - mean_absolute_percentage_error: 23.4972 - val_loss: 15819092.0000 - val_mean_absolute_percentage_error: 31.7769\n",
      "Epoch 16/20\n",
      "81/81 [==============================] - 0s 2ms/step - loss: 12941172.0000 - mean_absolute_percentage_error: 23.4378 - val_loss: 14951803.0000 - val_mean_absolute_percentage_error: 30.3349\n",
      "Epoch 17/20\n",
      "81/81 [==============================] - 0s 2ms/step - loss: 12549563.0000 - mean_absolute_percentage_error: 23.1344 - val_loss: 13971280.0000 - val_mean_absolute_percentage_error: 30.0811\n",
      "Epoch 18/20\n",
      "81/81 [==============================] - 0s 2ms/step - loss: 12571705.0000 - mean_absolute_percentage_error: 22.8975 - val_loss: 14779401.0000 - val_mean_absolute_percentage_error: 30.2928\n",
      "Epoch 19/20\n",
      "81/81 [==============================] - 0s 2ms/step - loss: 12504559.0000 - mean_absolute_percentage_error: 23.0078 - val_loss: 14613620.0000 - val_mean_absolute_percentage_error: 29.5025\n",
      "Epoch 20/20\n",
      "81/81 [==============================] - 0s 2ms/step - loss: 12527166.0000 - mean_absolute_percentage_error: 22.5322 - val_loss: 14215123.0000 - val_mean_absolute_percentage_error: 29.0335\n"
     ]
    }
   ],
   "source": [
    "hidden_layer_size = 40       \n",
    "input_size = 17\n",
    "output_size = 1\n",
    "\n",
    "\n",
    "model = tf.keras.Sequential([ \n",
    "                            tf.keras.layers.Dense(hidden_layer_size, activation = 'relu'),\n",
    "                            tf.keras.layers.Dense(hidden_layer_size, activation = 'relu'),\n",
    "                            tf.keras.layers.Dense(hidden_layer_size, activation = 'relu'),\n",
    "                            tf.keras.layers.Dense(hidden_layer_size, activation = 'relu'),\n",
    "                            tf.keras.layers.Dense(hidden_layer_size, activation = 'relu'),\n",
    "                            tf.keras.layers.Dense(hidden_layer_size, activation = 'relu'),\n",
    "                            tf.keras.layers.Dense(hidden_layer_size, activation = 'relu'),\n",
    "                            tf.keras.layers.Dense(hidden_layer_size, activation = 'relu'),\n",
    "                            tf.keras.layers.Dense(hidden_layer_size, activation = 'relu'),\n",
    "                            tf.keras.layers.Dense(hidden_layer_size, activation = 'relu'),\n",
    "                            tf.keras.layers.Dense(output_size)\n",
    "                            ])\n",
    "\n",
    "model.compile(optimizer='adam', loss= 'MSE', metrics=['MeanAbsolutePercentageError'])\n",
    "\n",
    "MAX_EPOCHS = 20\n",
    "BATCH_SIZE = 30\n",
    "\n",
    "early_stopping = tf.keras.callbacks.EarlyStopping(patience=5)\n",
    "\n",
    "history = model.fit(train_inputs, train_targets, \n",
    "          batch_size = BATCH_SIZE, \n",
    "          epochs = MAX_EPOCHS, \n",
    "          callbacks = [early_stopping],\n",
    "          validation_data = (validation_inputs, validation_targets), \n",
    "          verbose = 1)"
   ]
  },
  {
   "cell_type": "markdown",
   "metadata": {},
   "source": [
    "### The Mean absolute percentage error of 22.53 % (off target) translates to an accuracy average of 77.5%"
   ]
  },
  {
   "cell_type": "code",
   "execution_count": 43,
   "metadata": {},
   "outputs": [
    {
     "data": {
      "text/html": [
       "<div>\n",
       "<style scoped>\n",
       "    .dataframe tbody tr th:only-of-type {\n",
       "        vertical-align: middle;\n",
       "    }\n",
       "\n",
       "    .dataframe tbody tr th {\n",
       "        vertical-align: top;\n",
       "    }\n",
       "\n",
       "    .dataframe thead th {\n",
       "        text-align: right;\n",
       "    }\n",
       "</style>\n",
       "<table border=\"1\" class=\"dataframe\">\n",
       "  <thead>\n",
       "    <tr style=\"text-align: right;\">\n",
       "      <th></th>\n",
       "      <th>loss</th>\n",
       "      <th>mean_absolute_percentage_error</th>\n",
       "      <th>val_loss</th>\n",
       "      <th>val_mean_absolute_percentage_error</th>\n",
       "      <th>epoch</th>\n",
       "    </tr>\n",
       "  </thead>\n",
       "  <tbody>\n",
       "    <tr>\n",
       "      <th>0</th>\n",
       "      <td>241774288.0</td>\n",
       "      <td>91.461617</td>\n",
       "      <td>48210576.0</td>\n",
       "      <td>60.664116</td>\n",
       "      <td>0</td>\n",
       "    </tr>\n",
       "    <tr>\n",
       "      <th>1</th>\n",
       "      <td>43431660.0</td>\n",
       "      <td>43.717014</td>\n",
       "      <td>31509278.0</td>\n",
       "      <td>40.180740</td>\n",
       "      <td>1</td>\n",
       "    </tr>\n",
       "    <tr>\n",
       "      <th>2</th>\n",
       "      <td>31164026.0</td>\n",
       "      <td>36.209721</td>\n",
       "      <td>26816376.0</td>\n",
       "      <td>38.389725</td>\n",
       "      <td>2</td>\n",
       "    </tr>\n",
       "    <tr>\n",
       "      <th>3</th>\n",
       "      <td>26913378.0</td>\n",
       "      <td>33.531216</td>\n",
       "      <td>25966430.0</td>\n",
       "      <td>39.926220</td>\n",
       "      <td>3</td>\n",
       "    </tr>\n",
       "    <tr>\n",
       "      <th>4</th>\n",
       "      <td>24007552.0</td>\n",
       "      <td>31.725203</td>\n",
       "      <td>22677776.0</td>\n",
       "      <td>36.848949</td>\n",
       "      <td>4</td>\n",
       "    </tr>\n",
       "    <tr>\n",
       "      <th>5</th>\n",
       "      <td>21836376.0</td>\n",
       "      <td>30.562166</td>\n",
       "      <td>23516204.0</td>\n",
       "      <td>38.767323</td>\n",
       "      <td>5</td>\n",
       "    </tr>\n",
       "    <tr>\n",
       "      <th>6</th>\n",
       "      <td>19721168.0</td>\n",
       "      <td>29.381121</td>\n",
       "      <td>19531430.0</td>\n",
       "      <td>36.057365</td>\n",
       "      <td>6</td>\n",
       "    </tr>\n",
       "    <tr>\n",
       "      <th>7</th>\n",
       "      <td>17891368.0</td>\n",
       "      <td>28.572287</td>\n",
       "      <td>18515880.0</td>\n",
       "      <td>34.449436</td>\n",
       "      <td>7</td>\n",
       "    </tr>\n",
       "    <tr>\n",
       "      <th>8</th>\n",
       "      <td>16469117.0</td>\n",
       "      <td>27.311840</td>\n",
       "      <td>16923200.0</td>\n",
       "      <td>33.881168</td>\n",
       "      <td>8</td>\n",
       "    </tr>\n",
       "    <tr>\n",
       "      <th>9</th>\n",
       "      <td>15425425.0</td>\n",
       "      <td>26.588791</td>\n",
       "      <td>17285424.0</td>\n",
       "      <td>33.197433</td>\n",
       "      <td>9</td>\n",
       "    </tr>\n",
       "    <tr>\n",
       "      <th>10</th>\n",
       "      <td>14640810.0</td>\n",
       "      <td>25.547894</td>\n",
       "      <td>16488984.0</td>\n",
       "      <td>33.739071</td>\n",
       "      <td>10</td>\n",
       "    </tr>\n",
       "    <tr>\n",
       "      <th>11</th>\n",
       "      <td>14041978.0</td>\n",
       "      <td>25.106543</td>\n",
       "      <td>16761779.0</td>\n",
       "      <td>33.832733</td>\n",
       "      <td>11</td>\n",
       "    </tr>\n",
       "    <tr>\n",
       "      <th>12</th>\n",
       "      <td>13577328.0</td>\n",
       "      <td>24.655947</td>\n",
       "      <td>15264386.0</td>\n",
       "      <td>31.679636</td>\n",
       "      <td>12</td>\n",
       "    </tr>\n",
       "    <tr>\n",
       "      <th>13</th>\n",
       "      <td>13355380.0</td>\n",
       "      <td>24.492170</td>\n",
       "      <td>15456474.0</td>\n",
       "      <td>30.620712</td>\n",
       "      <td>13</td>\n",
       "    </tr>\n",
       "    <tr>\n",
       "      <th>14</th>\n",
       "      <td>13093136.0</td>\n",
       "      <td>23.497211</td>\n",
       "      <td>15819092.0</td>\n",
       "      <td>31.776939</td>\n",
       "      <td>14</td>\n",
       "    </tr>\n",
       "    <tr>\n",
       "      <th>15</th>\n",
       "      <td>12941172.0</td>\n",
       "      <td>23.437771</td>\n",
       "      <td>14951803.0</td>\n",
       "      <td>30.334883</td>\n",
       "      <td>15</td>\n",
       "    </tr>\n",
       "    <tr>\n",
       "      <th>16</th>\n",
       "      <td>12549563.0</td>\n",
       "      <td>23.134357</td>\n",
       "      <td>13971280.0</td>\n",
       "      <td>30.081055</td>\n",
       "      <td>16</td>\n",
       "    </tr>\n",
       "    <tr>\n",
       "      <th>17</th>\n",
       "      <td>12571705.0</td>\n",
       "      <td>22.897480</td>\n",
       "      <td>14779401.0</td>\n",
       "      <td>30.292761</td>\n",
       "      <td>17</td>\n",
       "    </tr>\n",
       "    <tr>\n",
       "      <th>18</th>\n",
       "      <td>12504559.0</td>\n",
       "      <td>23.007847</td>\n",
       "      <td>14613620.0</td>\n",
       "      <td>29.502480</td>\n",
       "      <td>18</td>\n",
       "    </tr>\n",
       "    <tr>\n",
       "      <th>19</th>\n",
       "      <td>12527166.0</td>\n",
       "      <td>22.532175</td>\n",
       "      <td>14215123.0</td>\n",
       "      <td>29.033541</td>\n",
       "      <td>19</td>\n",
       "    </tr>\n",
       "  </tbody>\n",
       "</table>\n",
       "</div>"
      ],
      "text/plain": [
       "           loss  mean_absolute_percentage_error    val_loss  \\\n",
       "0   241774288.0                       91.461617  48210576.0   \n",
       "1    43431660.0                       43.717014  31509278.0   \n",
       "2    31164026.0                       36.209721  26816376.0   \n",
       "3    26913378.0                       33.531216  25966430.0   \n",
       "4    24007552.0                       31.725203  22677776.0   \n",
       "5    21836376.0                       30.562166  23516204.0   \n",
       "6    19721168.0                       29.381121  19531430.0   \n",
       "7    17891368.0                       28.572287  18515880.0   \n",
       "8    16469117.0                       27.311840  16923200.0   \n",
       "9    15425425.0                       26.588791  17285424.0   \n",
       "10   14640810.0                       25.547894  16488984.0   \n",
       "11   14041978.0                       25.106543  16761779.0   \n",
       "12   13577328.0                       24.655947  15264386.0   \n",
       "13   13355380.0                       24.492170  15456474.0   \n",
       "14   13093136.0                       23.497211  15819092.0   \n",
       "15   12941172.0                       23.437771  14951803.0   \n",
       "16   12549563.0                       23.134357  13971280.0   \n",
       "17   12571705.0                       22.897480  14779401.0   \n",
       "18   12504559.0                       23.007847  14613620.0   \n",
       "19   12527166.0                       22.532175  14215123.0   \n",
       "\n",
       "    val_mean_absolute_percentage_error  epoch  \n",
       "0                            60.664116      0  \n",
       "1                            40.180740      1  \n",
       "2                            38.389725      2  \n",
       "3                            39.926220      3  \n",
       "4                            36.848949      4  \n",
       "5                            38.767323      5  \n",
       "6                            36.057365      6  \n",
       "7                            34.449436      7  \n",
       "8                            33.881168      8  \n",
       "9                            33.197433      9  \n",
       "10                           33.739071     10  \n",
       "11                           33.832733     11  \n",
       "12                           31.679636     12  \n",
       "13                           30.620712     13  \n",
       "14                           31.776939     14  \n",
       "15                           30.334883     15  \n",
       "16                           30.081055     16  \n",
       "17                           30.292761     17  \n",
       "18                           29.502480     18  \n",
       "19                           29.033541     19  "
      ]
     },
     "execution_count": 43,
     "metadata": {},
     "output_type": "execute_result"
    }
   ],
   "source": [
    "hist = pd.DataFrame(history.history)\n",
    "hist['epoch'] = history.epoch\n",
    "hist"
   ]
  },
  {
   "cell_type": "markdown",
   "metadata": {},
   "source": [
    "## Testing the model\n",
    "\n",
    "We test the model with the test_inputs, which was initially excluded from the training process, so the model has not seen this data.\n",
    "\n",
    "We then plot the outputs of the test data (scattered) against the targets (45 degree line). Ideally, each output will correlate exactly on the 45 degree line.\n",
    "\n",
    "The output below indicates a relatively good fit of the model in predicting new data."
   ]
  },
  {
   "cell_type": "code",
   "execution_count": 44,
   "metadata": {},
   "outputs": [],
   "source": [
    "test_outputs = model.predict_on_batch(test_inputs)"
   ]
  },
  {
   "cell_type": "code",
   "execution_count": 45,
   "metadata": {},
   "outputs": [
    {
     "data": {
      "image/png": "[encoded data removed]",
      "text/plain": [
       "<Figure size 432x288 with 1 Axes>"
      ]
     },
     "metadata": {},
     "output_type": "display_data"
    }
   ],
   "source": [
    "plt.scatter(test_outputs, test_targets, color='green')\n",
    "plt.xlabel('outputs', fontsize=18)\n",
    "plt.ylabel('targets', fontsize=18)\n",
    "lims = [0, 60000]\n",
    "plt.xlim(lims)\n",
    "plt.ylim(lims)\n",
    "_ = plt.plot(lims, lims)"
   ]
  },
  {
   "cell_type": "markdown",
   "metadata": {},
   "source": [
    "## Conclusion\n",
    "\n",
    "The model, when tested was reasonably effective and accurate. With an average accuracy of 77.5 %.\n",
    "\n",
    "There is room for improvement, future work could be done, further testing of different activation and loss functions. With time and experience, the model can also be improved in terms of selecting and pre-processing the data more efficiently.\n",
    "\n",
    "There needs to be consideration for the quality of data or lack thereof, as there are many other real world buying factors that were not in the data set, e.g the demand of a particular vehicle at the time of purchase, the condition or repair work needed on the vehicle etc. Without this information, the model can only relate to the information that was introduced."
   ]
  },
  {
   "cell_type": "code",
   "execution_count": null,
   "metadata": {},
   "outputs": [],
   "source": []
  }
 ],
 "metadata": {
  "kernelspec": {
   "display_name": "Python 3",
   "language": "python",
   "name": "python3"
  },
  "language_info": {
   "codemirror_mode": {
    "name": "ipython",
    "version": 3
   },
   "file_extension": ".py",
   "mimetype": "text/x-python",
   "name": "python",
   "nbconvert_exporter": "python",
   "pygments_lexer": "ipython3",
   "version": "3.8.3"
  }
 },
 "nbformat": 4,
 "nbformat_minor": 4
}
